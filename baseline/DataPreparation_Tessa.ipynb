{
 "cells": [
  {
   "cell_type": "markdown",
   "id": "30dff572",
   "metadata": {},
   "source": [
    "# Data Preperation for TESSA evaluation\n",
    "\n",
    "Here, we perpare our data to the format of TESSA from:\n",
    "\n",
    "Zhang Z, Xiong D, Wang X, Liu H, Wang T. Mapping the functional landscape of T cell receptor repertoires by single-T cell transcriptomics. Nat Methods. 2021.\n",
    "\n",
    "https://www.nature.com/articles/s41592-020-01020-3\n",
    "\n",
    "Clone the Github repository from https://github.com/jcao89757/TESSA to the folder 'baseline'."
   ]
  },
  {
   "cell_type": "code",
   "execution_count": 1,
   "id": "edf273bc",
   "metadata": {},
   "outputs": [],
   "source": [
    "import scanpy as sc\n",
    "import pandas as pd\n",
    "import os\n",
    "import sys\n",
    "\n",
    "sys.path.append('../mvTCR')\n",
    "import tcr_embedding as tcr\n",
    "from tcr_embedding.utils_preprocessing import group_shuffle_split\n",
    "import config.constants_10x as const"
   ]
  },
  {
   "cell_type": "markdown",
   "id": "8b82ce64",
   "metadata": {},
   "source": [
    "# Transform data"
   ]
  },
  {
   "cell_type": "code",
   "execution_count": 2,
   "id": "c7aed31b",
   "metadata": {
    "scrolled": true
   },
   "outputs": [
    {
     "name": "stderr",
     "output_type": "stream",
     "text": [
      "C:\\Users\\FELIX~1.DRO\\AppData\\Local\\Temp/ipykernel_18812/2351229261.py:10: ImplicitModificationWarning: Trying to modify attribute `.obs` of view, initializing view as actual.\n",
      "  new_ad.obs['binding_name'] = new_ad.obs['binding_name'].astype(str)\n"
     ]
    }
   ],
   "source": [
    "path_10x_adata = '../mvTCR/data/10x_CD8TC/v6_supervised.h5ad'\n",
    "adata = sc.read_h5ad(path_10x_adata)\n",
    "\n",
    "adatas_per_donor = []\n",
    "for i in range(1, 6):\n",
    "    if i == 5:\n",
    "        new_ad = adata\n",
    "    else:\n",
    "        new_ad = adata[adata.obs['donor']== f'donor_{i}']\n",
    "    new_ad.obs['binding_name'] = new_ad.obs['binding_name'].astype(str)\n",
    "    new_ad = new_ad[(new_ad.obs['binding_name'].isin(const.HIGH_COUNT_ANTIGENS))]\n",
    "    adatas_per_donor.append(new_ad.copy())"
   ]
  },
  {
   "cell_type": "code",
   "execution_count": 3,
   "id": "a14619b6",
   "metadata": {},
   "outputs": [
    {
     "data": {
      "text/plain": [
       "5"
      ]
     },
     "execution_count": 3,
     "metadata": {},
     "output_type": "execute_result"
    }
   ],
   "source": [
    "len(adatas_per_donor)"
   ]
  },
  {
   "cell_type": "code",
   "execution_count": 4,
   "id": "63cd2785",
   "metadata": {
    "scrolled": true
   },
   "outputs": [],
   "source": [
    "splits = {}\n",
    "\n",
    "for j, adata_donor in enumerate(adatas_per_donor):\n",
    "    splits[f'donor_{j+1}' if j < 4 else 'full'] = {}\n",
    "    adata_donor.obs['group_col'] = [seq[1:-1] for seq in adata_donor.obs['IR_VDJ_1_junction_aa']]\n",
    "    for i in range(0, 5):\n",
    "        random_seed = i\n",
    "        adata_tmp = adata_donor.copy()\n",
    "        train_val, test = group_shuffle_split(adata_tmp, group_col='group_col', val_split=0.20, random_seed=random_seed)\n",
    "        train, val = group_shuffle_split(train_val, group_col='group_col', val_split=0.25, random_seed=random_seed)\n",
    "        \n",
    "        adata_tmp.obs['set'] = 'train'\n",
    "        adata_tmp.obs.loc[val.obs.index, 'set'] = 'val'\n",
    "        adata_tmp.obs.loc[test.obs.index, 'set'] = 'test'\n",
    "        \n",
    "        adata_tmp = adata_tmp[adata_tmp.obs['set'].isin(['train', 'test'])]\n",
    "        splits[f'donor_{j+1}' if j < 4 else 'full'][f'split_{i}'] = adata_tmp.copy()"
   ]
  },
  {
   "cell_type": "markdown",
   "id": "6d1b42d4",
   "metadata": {},
   "source": [
    "Write the TCR sequences to seperate csv file for each donor:"
   ]
  },
  {
   "cell_type": "code",
   "execution_count": 5,
   "id": "e18a58eb",
   "metadata": {},
   "outputs": [
    {
     "name": "stderr",
     "output_type": "stream",
     "text": [
      "C:\\Users\\FELIX~1.DRO\\AppData\\Local\\Temp/ipykernel_18812/2801567864.py:8: SettingWithCopyWarning: \n",
      "A value is trying to be set on a copy of a slice from a DataFrame.\n",
      "Try using .loc[row_indexer,col_indexer] = value instead\n",
      "\n",
      "See the caveats in the documentation: https://pandas.pydata.org/pandas-docs/stable/user_guide/indexing.html#returning-a-view-versus-a-copy\n",
      "  df_tcr['cdr3'] = [seq[1:-1] for seq in df_tcr['IR_VDJ_1_junction_aa']]\n"
     ]
    }
   ],
   "source": [
    "for donor, ad_dict in splits.items():\n",
    "    for split, adata in ad_dict.items():\n",
    "        path_base = f'../mvTCR/data/tessa/10x/{donor}/'\n",
    "        if not os.path.exists(path_base):\n",
    "            os.mkdir(path_base)\n",
    "\n",
    "        df_tcr = adata.obs[['IR_VDJ_1_junction_aa', 'binding_name', 'set']]\n",
    "        df_tcr['cdr3'] = [seq[1:-1] for seq in df_tcr['IR_VDJ_1_junction_aa']]\n",
    "\n",
    "        df_tcr = df_tcr[['cdr3', 'binding_name', 'set']]\n",
    "        df_tcr.index.name = 'contig_id'\n",
    "\n",
    "        df_tcr_train = df_tcr[df_tcr['set']=='train']\n",
    "        df_tcr_test = df_tcr[df_tcr['set']=='test']\n",
    "\n",
    "        df_tcr_train.to_csv(path_base+f'{split}_tcrs_atlas.csv')\n",
    "        df_tcr_test.to_csv(path_base+f'{split}_tcrs_query.csv')"
   ]
  },
  {
   "cell_type": "markdown",
   "id": "9f4dca2c",
   "metadata": {},
   "source": [
    "Write the scRNA matrix to seperate csv file for each donor:"
   ]
  },
  {
   "cell_type": "code",
   "execution_count": 6,
   "id": "682e49c3",
   "metadata": {},
   "outputs": [],
   "source": [
    "for donor, ad_dict in splits.items():\n",
    "    for split, adata in ad_dict.items():\n",
    "        path_base = f'../mvTCR/data/tessa/10x/{donor}/'\n",
    "        count_mat = adata.X.A\n",
    "        df_counts = pd.DataFrame(count_mat)\n",
    "\n",
    "        df_counts.index = adata.obs.index\n",
    "        df_counts.index.name = ''\n",
    "        df_counts.columns = adata.var.index\n",
    "\n",
    "        df_counts_train = df_counts[adata.obs['set']=='train']\n",
    "        df_counts_test = df_counts[adata.obs['set']=='test']\n",
    "\n",
    "\n",
    "        df_counts_train = df_counts_train.transpose()\n",
    "        df_counts_test = df_counts_test.transpose()\n",
    "\n",
    "        df_counts_train.to_csv(path_base+f'{split}_scRNA_atlas.csv')\n",
    "        df_counts_test.to_csv(path_base+f'{split}_scRNA_query.csv')"
   ]
  },
  {
   "cell_type": "markdown",
   "id": "f3dd6b5a",
   "metadata": {},
   "source": [
    "## Transform the Covid Dataset"
   ]
  },
  {
   "cell_type": "code",
   "execution_count": 7,
   "id": "73a36c4f",
   "metadata": {},
   "outputs": [],
   "source": [
    "def extract_reactivity(value):\n",
    "    if 'un-reactive' in value:\n",
    "        return 'un-reactive'\n",
    "    if 'CD8' in value:\n",
    "        return 'CD8 reactive'\n",
    "    if 'CD4' in value:\n",
    "        return 'CD4 reactive'"
   ]
  },
  {
   "cell_type": "code",
   "execution_count": 8,
   "id": "fbbed8f2",
   "metadata": {},
   "outputs": [],
   "source": [
    "path_covid_adata = '../mvTCR/data/Covid/04_covid_highly_var_5000.h5ad'\n",
    "adata = sc.read_h5ad(path_covid_adata)\n",
    "adata.obs['reactivity'] = [extract_reactivity(x) for x in adata.obs['reactive_combined']]"
   ]
  },
  {
   "cell_type": "code",
   "execution_count": 9,
   "id": "30f3f82f",
   "metadata": {},
   "outputs": [],
   "source": [
    "splits_covid = {}\n",
    "\n",
    "for i in range(0, 5):\n",
    "    random_seed = i\n",
    "    adata_tmp = adata.copy()\n",
    "    sub, non_sub = group_shuffle_split(adata_tmp, group_col='TRB_1_cdr3', val_split=0.2, random_seed=random_seed)\n",
    "    train, val = group_shuffle_split(sub, group_col='TRB_1_cdr3', val_split=0.20, random_seed=random_seed)\n",
    "    adata_tmp.obs['set'] = 'train'\n",
    "    adata_tmp.obs.loc[non_sub.obs.index, 'set'] = '-'\n",
    "    adata_tmp.obs.loc[val.obs.index, 'set'] = 'val'\n",
    "    adata_tmp = adata_tmp[adata_tmp.obs['set'].isin(['train', 'val'])]\n",
    "    splits_covid[f'split_{i}'] = adata_tmp.copy()"
   ]
  },
  {
   "cell_type": "code",
   "execution_count": 10,
   "id": "38e98c85",
   "metadata": {},
   "outputs": [
    {
     "name": "stderr",
     "output_type": "stream",
     "text": [
      "C:\\Users\\FELIX~1.DRO\\AppData\\Local\\Temp/ipykernel_18812/2524859095.py:7: SettingWithCopyWarning: \n",
      "A value is trying to be set on a copy of a slice from a DataFrame.\n",
      "Try using .loc[row_indexer,col_indexer] = value instead\n",
      "\n",
      "See the caveats in the documentation: https://pandas.pydata.org/pandas-docs/stable/user_guide/indexing.html#returning-a-view-versus-a-copy\n",
      "  df_tcr['cdr3'] = [seq[1:-1] for seq in df_tcr['TRB_1_cdr3']]\n"
     ]
    }
   ],
   "source": [
    "path_base = f'../mvTCR/data/tessa/covid/'\n",
    "if not os.path.exists(path_base):\n",
    "    os.mkdir(path_base)\n",
    "\n",
    "for split, adata in splits_covid.items():\n",
    "    df_tcr = adata.obs[['TRB_1_cdr3', 'T_cells', 'reactivity' , 'set']]\n",
    "    df_tcr['cdr3'] = [seq[1:-1] for seq in df_tcr['TRB_1_cdr3']]\n",
    "\n",
    "    df_tcr = df_tcr[['cdr3', 'T_cells', 'reactivity', 'set']]\n",
    "    df_tcr.index.name = 'contig_id'\n",
    "\n",
    "    df_tcr.to_csv(path_base+f'{split}_tcrs_atlas.csv')"
   ]
  },
  {
   "cell_type": "code",
   "execution_count": 11,
   "id": "76bccb7e",
   "metadata": {},
   "outputs": [],
   "source": [
    "path_base = f'../mvTCR/data/tessa/covid/'\n",
    "\n",
    "for split, adata in splits_covid.items():\n",
    "    count_mat = adata.X.A\n",
    "    df_counts = pd.DataFrame(count_mat)\n",
    "\n",
    "    df_counts.index = adata.obs.index\n",
    "    df_counts.index.name = ''\n",
    "    df_counts.columns = adata.var.index\n",
    "\n",
    "    df_counts = df_counts.transpose()\n",
    "    df_counts.to_csv(path_base+f'{split}_scRNA_atlas.csv')"
   ]
  }
 ],
 "metadata": {
  "kernelspec": {
   "display_name": "Python [conda env:mvTCR]",
   "language": "python",
   "name": "conda-env-mvTCR-py"
  },
  "language_info": {
   "codemirror_mode": {
    "name": "ipython",
    "version": 3
   },
   "file_extension": ".py",
   "mimetype": "text/x-python",
   "name": "python",
   "nbconvert_exporter": "python",
   "pygments_lexer": "ipython3",
   "version": "3.8.8"
  }
 },
 "nbformat": 4,
 "nbformat_minor": 5
}
