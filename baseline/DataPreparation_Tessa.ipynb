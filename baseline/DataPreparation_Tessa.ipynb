{
 "cells": [
  {
   "cell_type": "markdown",
   "id": "30dff572",
   "metadata": {},
   "source": [
    "# Data Preperation for TESSA evaluation\n",
    "\n",
    "Here, we perpare our data to the format of TESSA from:\n",
    "\n",
    "Zhang Z, Xiong D, Wang X, Liu H, Wang T. Mapping the functional landscape of T cell receptor repertoires by single-T cell transcriptomics. Nat Methods. 2021.\n",
    "\n",
    "https://www.nature.com/articles/s41592-020-01020-3\n",
    "\n",
    "Clone the Github repository from https://github.com/jcao89757/TESSA to the folder 'baseline'."
   ]
  },
  {
   "cell_type": "code",
   "execution_count": 1,
   "id": "edf273bc",
   "metadata": {},
   "outputs": [],
   "source": [
    "import scanpy as sc\n",
    "import pandas as pd\n",
    "import os\n",
    "import sys\n",
    "\n",
    "sys.path.append('../mvTCR')\n",
    "import tcr_embedding as tcr\n",
    "from tcr_embedding.utils_preprocessing import group_shuffle_split\n",
    "import config.constants_10x as const"
   ]
  },
  {
   "cell_type": "markdown",
   "id": "8b82ce64",
   "metadata": {},
   "source": [
    "# Transform data"
   ]
  },
  {
   "cell_type": "code",
   "execution_count": 2,
   "id": "c7aed31b",
   "metadata": {
    "scrolled": true
   },
   "outputs": [
    {
     "name": "stderr",
     "output_type": "stream",
     "text": [
      "C:\\Users\\FELIX~1.DRO\\AppData\\Local\\Temp/ipykernel_18812/2351229261.py:10: ImplicitModificationWarning: Trying to modify attribute `.obs` of view, initializing view as actual.\n",
      "  new_ad.obs['binding_name'] = new_ad.obs['binding_name'].astype(str)\n"
     ]
    }
   ],
   "source": [
    "path_10x_adata = '../mvTCR/data/10x_CD8TC/v6_supervised.h5ad'\n",
    "adata = sc.read_h5ad(path_10x_adata)\n",
    "\n",
    "adatas_per_donor = []\n",
    "for i in range(1, 6):\n",
    "    if i == 5:\n",
    "        new_ad = adata\n",
    "    else:\n",
    "        new_ad = adata[adata.obs['donor']== f'donor_{i}']\n",
    "    new_ad.obs['binding_name'] = new_ad.obs['binding_name'].astype(str)\n",
    "    new_ad = new_ad[(new_ad.obs['binding_name'].isin(const.HIGH_COUNT_ANTIGENS))]\n",
    "    adatas_per_donor.append(new_ad.copy())"
   ]
  },
  {
   "cell_type": "code",
   "execution_count": 3,
   "id": "a14619b6",
   "metadata": {},
   "outputs": [
    {
     "data": {
      "text/plain": [
       "5"
      ]
     },
     "execution_count": 3,
     "metadata": {},
     "output_type": "execute_result"
    }
   ],
   "source": [
    "len(adatas_per_donor)"
   ]
  },
  {
   "cell_type": "code",
   "execution_count": 4,
   "id": "63cd2785",
   "metadata": {
    "scrolled": true
   },
   "outputs": [],
   "source": [
    "splits = {}\n",
    "\n",
    "for j, adata_donor in enumerate(adatas_per_donor):\n",
    "    splits[f'donor_{j+1}' if j < 4 else 'full'] = {}\n",
    "    adata_donor.obs['group_col'] = [seq[1:-1] for seq in adata_donor.obs['IR_VDJ_1_junction_aa']]\n",
    "    for i in range(0, 5):\n",
    "        random_seed = i\n",
    "        adata_tmp = adata_donor.copy()\n",
    "        train_val, test = group_shuffle_split(adata_tmp, group_col='group_col', val_split=0.20, random_seed=random_seed)\n",
    "        train, val = group_shuffle_split(train_val, group_col='group_col', val_split=0.25, random_seed=random_seed)\n",
    "        \n",
    "        adata_tmp.obs['set'] = 'train'\n",
    "        adata_tmp.obs.loc[val.obs.index, 'set'] = 'val'\n",
    "        adata_tmp.obs.loc[test.obs.index, 'set'] = 'test'\n",
    "        \n",
    "        adata_tmp = adata_tmp[adata_tmp.obs['set'].isin(['train', 'test'])]\n",
    "        splits[f'donor_{j+1}' if j < 4 else 'full'][f'split_{i}'] = adata_tmp.copy()"
   ]
  },
  {
   "cell_type": "markdown",
   "id": "6d1b42d4",
   "metadata": {},
   "source": [
    "Write the TCR sequences to seperate csv file for each donor:"
   ]
  },
  {
   "cell_type": "code",
   "execution_count": 5,
   "id": "e18a58eb",
   "metadata": {},
   "outputs": [
    {
     "name": "stderr",
     "output_type": "stream",
     "text": [
      "C:\\Users\\FELIX~1.DRO\\AppData\\Local\\Temp/ipykernel_18812/2801567864.py:8: SettingWithCopyWarning: \n",
      "A value is trying to be set on a copy of a slice from a DataFrame.\n",
      "Try using .loc[row_indexer,col_indexer] = value instead\n",
      "\n",
      "See the caveats in the documentation: https://pandas.pydata.org/pandas-docs/stable/user_guide/indexing.html#returning-a-view-versus-a-copy\n",
      "  df_tcr['cdr3'] = [seq[1:-1] for seq in df_tcr['IR_VDJ_1_junction_aa']]\n"
     ]
    }
   ],
   "source": [
    "for donor, ad_dict in splits.items():\n",
    "    for split, adata in ad_dict.items():\n",
    "        path_base = f'../mvTCR/data/tessa/10x/{donor}/'\n",
    "        if not os.path.exists(path_base):\n",
    "            os.mkdir(path_base)\n",
    "\n",
    "        df_tcr = adata.obs[['IR_VDJ_1_junction_aa', 'binding_name', 'set']]\n",
    "        df_tcr['cdr3'] = [seq[1:-1] for seq in df_tcr['IR_VDJ_1_junction_aa']]\n",
    "\n",
    "        df_tcr = df_tcr[['cdr3', 'binding_name', 'set']]\n",
    "        df_tcr.index.name = 'contig_id'\n",
    "\n",
    "        df_tcr_train = df_tcr[df_tcr['set']=='train']\n",
    "        df_tcr_test = df_tcr[df_tcr['set']=='test']\n",
    "\n",
    "        df_tcr_train.to_csv(path_base+f'{split}_tcrs_atlas.csv')\n",
    "        df_tcr_test.to_csv(path_base+f'{split}_tcrs_query.csv')"
   ]
  },
  {
   "cell_type": "markdown",
   "id": "9f4dca2c",
   "metadata": {},
   "source": [
    "Write the scRNA matrix to seperate csv file for each donor:"
   ]
  },
  {
   "cell_type": "code",
   "execution_count": 6,
   "id": "682e49c3",
   "metadata": {},
   "outputs": [],
   "source": [
    "for donor, ad_dict in splits.items():\n",
    "    for split, adata in ad_dict.items():\n",
    "        path_base = f'../mvTCR/data/tessa/10x/{donor}/'\n",
    "        count_mat = adata.X.A\n",
    "        df_counts = pd.DataFrame(count_mat)\n",
    "\n",
    "        df_counts.index = adata.obs.index\n",
    "        df_counts.index.name = ''\n",
    "        df_counts.columns = adata.var.index\n",
    "\n",
    "        df_counts_train = df_counts[adata.obs['set']=='train']\n",
    "        df_counts_test = df_counts[adata.obs['set']=='test']\n",
    "\n",
    "\n",
    "        df_counts_train = df_counts_train.transpose()\n",
    "        df_counts_test = df_counts_test.transpose()\n",
    "\n",
    "        df_counts_train.to_csv(path_base+f'{split}_scRNA_atlas.csv')\n",
    "        df_counts_test.to_csv(path_base+f'{split}_scRNA_query.csv')"
   ]
  },
  {
   "cell_type": "markdown",
   "id": "f3dd6b5a",
   "metadata": {},
   "source": [
    "## Transform the Covid Dataset"
   ]
  },
  {
   "cell_type": "code",
   "execution_count": 7,
   "id": "73a36c4f",
   "metadata": {},
   "outputs": [],
   "source": [
    "def extract_reactivity(value):\n",
    "    if 'un-reactive' in value:\n",
    "        return 'un-reactive'\n",
    "    if 'CD8' in value:\n",
    "        return 'CD8 reactive'\n",
    "    if 'CD4' in value:\n",
    "        return 'CD4 reactive'"
   ]
  },
  {
   "cell_type": "code",
   "execution_count": 8,
   "id": "fbbed8f2",
   "metadata": {},
   "outputs": [],
   "source": [
    "path_covid_adata = '../mvTCR/data/Covid/04_covid_highly_var_5000.h5ad'\n",
    "adata = sc.read_h5ad(path_covid_adata)\n",
    "adata.obs['reactivity'] = [extract_reactivity(x) for x in adata.obs['reactive_combined']]"
   ]
  },
  {
   "cell_type": "code",
   "execution_count": 9,
   "id": "30f3f82f",
   "metadata": {},
   "outputs": [],
   "source": [
    "splits_covid = {}\n",
    "\n",
    "for i in range(0, 5):\n",
    "    random_seed = i\n",
    "    adata_tmp = adata.copy()\n",
    "    sub, non_sub = group_shuffle_split(adata_tmp, group_col='TRB_1_cdr3', val_split=0.2, random_seed=random_seed)\n",
    "    train, val = group_shuffle_split(sub, group_col='TRB_1_cdr3', val_split=0.20, random_seed=random_seed)\n",
    "    adata_tmp.obs['set'] = 'train'\n",
    "    adata_tmp.obs.loc[non_sub.obs.index, 'set'] = '-'\n",
    "    adata_tmp.obs.loc[val.obs.index, 'set'] = 'val'\n",
    "    adata_tmp = adata_tmp[adata_tmp.obs['set'].isin(['train', 'val'])]\n",
    "    splits_covid[f'split_{i}'] = adata_tmp.copy()"
   ]
  },
  {
   "cell_type": "code",
   "execution_count": 10,
   "id": "38e98c85",
   "metadata": {},
   "outputs": [
    {
     "name": "stderr",
     "output_type": "stream",
     "text": [
      "C:\\Users\\FELIX~1.DRO\\AppData\\Local\\Temp/ipykernel_18812/2524859095.py:7: SettingWithCopyWarning: \n",
      "A value is trying to be set on a copy of a slice from a DataFrame.\n",
      "Try using .loc[row_indexer,col_indexer] = value instead\n",
      "\n",
      "See the caveats in the documentation: https://pandas.pydata.org/pandas-docs/stable/user_guide/indexing.html#returning-a-view-versus-a-copy\n",
      "  df_tcr['cdr3'] = [seq[1:-1] for seq in df_tcr['TRB_1_cdr3']]\n"
     ]
    }
   ],
   "source": [
    "path_base = f'../mvTCR/data/tessa/covid/'\n",
    "if not os.path.exists(path_base):\n",
    "    os.mkdir(path_base)\n",
    "\n",
    "for split, adata in splits_covid.items():\n",
    "    df_tcr = adata.obs[['TRB_1_cdr3', 'T_cells', 'reactivity' , 'set']]\n",
    "    df_tcr['cdr3'] = [seq[1:-1] for seq in df_tcr['TRB_1_cdr3']]\n",
    "\n",
    "    df_tcr = df_tcr[['cdr3', 'T_cells', 'reactivity', 'set']]\n",
    "    df_tcr.index.name = 'contig_id'\n",
    "\n",
    "    df_tcr.to_csv(path_base+f'{split}_tcrs_atlas.csv')"
   ]
  },
  {
   "cell_type": "code",
   "execution_count": 11,
   "id": "76bccb7e",
   "metadata": {},
   "outputs": [],
   "source": [
    "path_base = f'../mvTCR/data/tessa/covid/'\n",
    "\n",
    "for split, adata in splits_covid.items():\n",
    "    count_mat = adata.X.A\n",
    "    df_counts = pd.DataFrame(count_mat)\n",
    "\n",
    "    df_counts.index = adata.obs.index\n",
    "    df_counts.index.name = ''\n",
    "    df_counts.columns = adata.var.index\n",
    "\n",
    "    df_counts = df_counts.transpose()\n",
    "    df_counts.to_csv(path_base+f'{split}_scRNA_atlas.csv')"
   ]
  },
  {
   "cell_type": "markdown",
   "id": "53fa43fc",
   "metadata": {},
   "source": [
    "## Haniffa Dataset"
   ]
  },
  {
   "cell_type": "code",
   "execution_count": 2,
   "id": "b22e6bf0",
   "metadata": {},
   "outputs": [],
   "source": [
    "path_haniffa_adata = '../mvTCR/data/Haniffa/v3_conditional.h5ad'\n",
    "adata = sc.read_h5ad(path_haniffa_adata)"
   ]
  },
  {
   "cell_type": "code",
   "execution_count": 9,
   "id": "30f3f82f",
   "metadata": {},
   "outputs": [
    {
     "ename": "MemoryError",
     "evalue": "Unable to allocate 3.10 GiB for an array with shape (16628146, 50) and data type float32",
     "output_type": "error",
     "traceback": [
      "\u001b[1;31m---------------------------------------------------------------------------\u001b[0m",
      "\u001b[1;31mMemoryError\u001b[0m                               Traceback (most recent call last)",
      "\u001b[1;32mC:\\Users\\FELIX~1.DRO\\AppData\\Local\\Temp/ipykernel_16840/3317319329.py\u001b[0m in \u001b[0;36m<module>\u001b[1;34m\u001b[0m\n\u001b[0;32m      4\u001b[0m     \u001b[0mrandom_seed\u001b[0m \u001b[1;33m=\u001b[0m \u001b[0mi\u001b[0m\u001b[1;33m\u001b[0m\u001b[1;33m\u001b[0m\u001b[0m\n\u001b[0;32m      5\u001b[0m     \u001b[0madata_tmp\u001b[0m \u001b[1;33m=\u001b[0m \u001b[0madata\u001b[0m\u001b[1;33m.\u001b[0m\u001b[0mcopy\u001b[0m\u001b[1;33m(\u001b[0m\u001b[1;33m)\u001b[0m\u001b[1;33m\u001b[0m\u001b[1;33m\u001b[0m\u001b[0m\n\u001b[1;32m----> 6\u001b[1;33m     \u001b[0msc\u001b[0m\u001b[1;33m.\u001b[0m\u001b[0mpp\u001b[0m\u001b[1;33m.\u001b[0m\u001b[0msubsample\u001b[0m\u001b[1;33m(\u001b[0m\u001b[0madata_tmp\u001b[0m\u001b[1;33m,\u001b[0m \u001b[0mn_obs\u001b[0m\u001b[1;33m=\u001b[0m\u001b[1;36m30000\u001b[0m\u001b[1;33m,\u001b[0m \u001b[0mrandom_state\u001b[0m\u001b[1;33m=\u001b[0m\u001b[0mrandom_seed\u001b[0m\u001b[1;33m)\u001b[0m\u001b[1;33m\u001b[0m\u001b[1;33m\u001b[0m\u001b[0m\n\u001b[0m\u001b[0;32m      7\u001b[0m     \u001b[0mtrain_val\u001b[0m\u001b[1;33m,\u001b[0m \u001b[0mtest\u001b[0m \u001b[1;33m=\u001b[0m \u001b[0mgroup_shuffle_split\u001b[0m\u001b[1;33m(\u001b[0m\u001b[0madata_tmp\u001b[0m\u001b[1;33m,\u001b[0m \u001b[0mgroup_col\u001b[0m\u001b[1;33m=\u001b[0m\u001b[1;34m'cdr3_beta'\u001b[0m\u001b[1;33m,\u001b[0m \u001b[0mval_split\u001b[0m\u001b[1;33m=\u001b[0m\u001b[1;36m0.20\u001b[0m\u001b[1;33m,\u001b[0m \u001b[0mrandom_seed\u001b[0m\u001b[1;33m=\u001b[0m\u001b[0mrandom_seed\u001b[0m\u001b[1;33m)\u001b[0m\u001b[1;33m\u001b[0m\u001b[1;33m\u001b[0m\u001b[0m\n\u001b[0;32m      8\u001b[0m     \u001b[0mtrain\u001b[0m\u001b[1;33m,\u001b[0m \u001b[0mval\u001b[0m \u001b[1;33m=\u001b[0m \u001b[0mgroup_shuffle_split\u001b[0m\u001b[1;33m(\u001b[0m\u001b[0mtrain_val\u001b[0m\u001b[1;33m,\u001b[0m \u001b[0mgroup_col\u001b[0m\u001b[1;33m=\u001b[0m\u001b[1;34m'cdr3_beta'\u001b[0m\u001b[1;33m,\u001b[0m \u001b[0mval_split\u001b[0m\u001b[1;33m=\u001b[0m\u001b[1;36m0.25\u001b[0m\u001b[1;33m,\u001b[0m \u001b[0mrandom_seed\u001b[0m\u001b[1;33m=\u001b[0m\u001b[0mrandom_seed\u001b[0m\u001b[1;33m)\u001b[0m\u001b[1;33m\u001b[0m\u001b[1;33m\u001b[0m\u001b[0m\n",
      "\u001b[1;32m~\\Anaconda3\\envs\\mvTCR\\lib\\site-packages\\scanpy\\preprocessing\\_simple.py\u001b[0m in \u001b[0;36msubsample\u001b[1;34m(data, fraction, n_obs, random_state, copy)\u001b[0m\n\u001b[0;32m    871\u001b[0m             \u001b[1;32mreturn\u001b[0m \u001b[0mdata\u001b[0m\u001b[1;33m[\u001b[0m\u001b[0mobs_indices\u001b[0m\u001b[1;33m]\u001b[0m\u001b[1;33m.\u001b[0m\u001b[0mcopy\u001b[0m\u001b[1;33m(\u001b[0m\u001b[1;33m)\u001b[0m\u001b[1;33m\u001b[0m\u001b[1;33m\u001b[0m\u001b[0m\n\u001b[0;32m    872\u001b[0m         \u001b[1;32melse\u001b[0m\u001b[1;33m:\u001b[0m\u001b[1;33m\u001b[0m\u001b[1;33m\u001b[0m\u001b[0m\n\u001b[1;32m--> 873\u001b[1;33m             \u001b[0mdata\u001b[0m\u001b[1;33m.\u001b[0m\u001b[0m_inplace_subset_obs\u001b[0m\u001b[1;33m(\u001b[0m\u001b[0mobs_indices\u001b[0m\u001b[1;33m)\u001b[0m\u001b[1;33m\u001b[0m\u001b[1;33m\u001b[0m\u001b[0m\n\u001b[0m\u001b[0;32m    874\u001b[0m     \u001b[1;32melse\u001b[0m\u001b[1;33m:\u001b[0m\u001b[1;33m\u001b[0m\u001b[1;33m\u001b[0m\u001b[0m\n\u001b[0;32m    875\u001b[0m         \u001b[0mX\u001b[0m \u001b[1;33m=\u001b[0m \u001b[0mdata\u001b[0m\u001b[1;33m\u001b[0m\u001b[1;33m\u001b[0m\u001b[0m\n",
      "\u001b[1;32m~\\Anaconda3\\envs\\mvTCR\\lib\\site-packages\\anndata\\_core\\anndata.py\u001b[0m in \u001b[0;36m_inplace_subset_obs\u001b[1;34m(self, index)\u001b[0m\n\u001b[0;32m   1257\u001b[0m         \u001b[0mSame\u001b[0m \u001b[1;32mas\u001b[0m\u001b[0;31m \u001b[0m\u001b[0;31m`\u001b[0m\u001b[0madata\u001b[0m \u001b[1;33m=\u001b[0m \u001b[0madata\u001b[0m\u001b[1;33m[\u001b[0m\u001b[0mindex\u001b[0m\u001b[1;33m,\u001b[0m \u001b[1;33m:\u001b[0m\u001b[1;33m]\u001b[0m\u001b[0;31m`\u001b[0m\u001b[1;33m,\u001b[0m \u001b[0mbut\u001b[0m \u001b[0minplace\u001b[0m\u001b[1;33m.\u001b[0m\u001b[1;33m\u001b[0m\u001b[1;33m\u001b[0m\u001b[0m\n\u001b[0;32m   1258\u001b[0m         \"\"\"\n\u001b[1;32m-> 1259\u001b[1;33m         \u001b[0madata_subset\u001b[0m \u001b[1;33m=\u001b[0m \u001b[0mself\u001b[0m\u001b[1;33m[\u001b[0m\u001b[0mindex\u001b[0m\u001b[1;33m]\u001b[0m\u001b[1;33m.\u001b[0m\u001b[0mcopy\u001b[0m\u001b[1;33m(\u001b[0m\u001b[1;33m)\u001b[0m\u001b[1;33m\u001b[0m\u001b[1;33m\u001b[0m\u001b[0m\n\u001b[0m\u001b[0;32m   1260\u001b[0m         \u001b[1;32mif\u001b[0m \u001b[0madata_subset\u001b[0m\u001b[1;33m.\u001b[0m\u001b[0m_has_X\u001b[0m\u001b[1;33m(\u001b[0m\u001b[1;33m)\u001b[0m\u001b[1;33m:\u001b[0m\u001b[1;33m\u001b[0m\u001b[1;33m\u001b[0m\u001b[0m\n\u001b[0;32m   1261\u001b[0m             \u001b[0mdtype\u001b[0m \u001b[1;33m=\u001b[0m \u001b[0madata_subset\u001b[0m\u001b[1;33m.\u001b[0m\u001b[0mX\u001b[0m\u001b[1;33m.\u001b[0m\u001b[0mdtype\u001b[0m\u001b[1;33m\u001b[0m\u001b[1;33m\u001b[0m\u001b[0m\n",
      "\u001b[1;32m~\\Anaconda3\\envs\\mvTCR\\lib\\site-packages\\anndata\\_core\\anndata.py\u001b[0m in \u001b[0;36mcopy\u001b[1;34m(self, filename)\u001b[0m\n\u001b[0;32m   1516\u001b[0m                 \u001b[1;31m# defined for the matrix, which is needed for some of the\u001b[0m\u001b[1;33m\u001b[0m\u001b[1;33m\u001b[0m\u001b[1;33m\u001b[0m\u001b[0m\n\u001b[0;32m   1517\u001b[0m                 \u001b[1;31m# current distributed backend. Specifically Dask.\u001b[0m\u001b[1;33m\u001b[0m\u001b[1;33m\u001b[0m\u001b[1;33m\u001b[0m\u001b[0m\n\u001b[1;32m-> 1518\u001b[1;33m                 return self._mutated_copy(\n\u001b[0m\u001b[0;32m   1519\u001b[0m                     \u001b[0mX\u001b[0m\u001b[1;33m=\u001b[0m\u001b[0m_subset\u001b[0m\u001b[1;33m(\u001b[0m\u001b[0mself\u001b[0m\u001b[1;33m.\u001b[0m\u001b[0m_adata_ref\u001b[0m\u001b[1;33m.\u001b[0m\u001b[0mX\u001b[0m\u001b[1;33m,\u001b[0m \u001b[1;33m(\u001b[0m\u001b[0mself\u001b[0m\u001b[1;33m.\u001b[0m\u001b[0m_oidx\u001b[0m\u001b[1;33m,\u001b[0m \u001b[0mself\u001b[0m\u001b[1;33m.\u001b[0m\u001b[0m_vidx\u001b[0m\u001b[1;33m)\u001b[0m\u001b[1;33m)\u001b[0m\u001b[1;33m.\u001b[0m\u001b[0mcopy\u001b[0m\u001b[1;33m(\u001b[0m\u001b[1;33m)\u001b[0m\u001b[1;33m\u001b[0m\u001b[1;33m\u001b[0m\u001b[0m\n\u001b[0;32m   1520\u001b[0m                 )\n",
      "\u001b[1;32m~\\Anaconda3\\envs\\mvTCR\\lib\\site-packages\\anndata\\_core\\anndata.py\u001b[0m in \u001b[0;36m_mutated_copy\u001b[1;34m(self, **kwargs)\u001b[0m\n\u001b[0;32m   1475\u001b[0m             \u001b[0mnew\u001b[0m\u001b[1;33m[\u001b[0m\u001b[1;34m\"uns\"\u001b[0m\u001b[1;33m]\u001b[0m \u001b[1;33m=\u001b[0m \u001b[0mkwargs\u001b[0m\u001b[1;33m[\u001b[0m\u001b[1;34m\"uns\"\u001b[0m\u001b[1;33m]\u001b[0m\u001b[1;33m\u001b[0m\u001b[1;33m\u001b[0m\u001b[0m\n\u001b[0;32m   1476\u001b[0m         \u001b[1;32melse\u001b[0m\u001b[1;33m:\u001b[0m\u001b[1;33m\u001b[0m\u001b[1;33m\u001b[0m\u001b[0m\n\u001b[1;32m-> 1477\u001b[1;33m             \u001b[0mnew\u001b[0m\u001b[1;33m[\u001b[0m\u001b[1;34m\"uns\"\u001b[0m\u001b[1;33m]\u001b[0m \u001b[1;33m=\u001b[0m \u001b[0mdeepcopy\u001b[0m\u001b[1;33m(\u001b[0m\u001b[0mself\u001b[0m\u001b[1;33m.\u001b[0m\u001b[0m_uns\u001b[0m\u001b[1;33m)\u001b[0m\u001b[1;33m\u001b[0m\u001b[1;33m\u001b[0m\u001b[0m\n\u001b[0m\u001b[0;32m   1478\u001b[0m         \u001b[1;32mif\u001b[0m \u001b[1;34m\"raw\"\u001b[0m \u001b[1;32min\u001b[0m \u001b[0mkwargs\u001b[0m\u001b[1;33m:\u001b[0m\u001b[1;33m\u001b[0m\u001b[1;33m\u001b[0m\u001b[0m\n\u001b[0;32m   1479\u001b[0m             \u001b[0mnew\u001b[0m\u001b[1;33m[\u001b[0m\u001b[1;34m\"raw\"\u001b[0m\u001b[1;33m]\u001b[0m \u001b[1;33m=\u001b[0m \u001b[0mkwargs\u001b[0m\u001b[1;33m[\u001b[0m\u001b[1;34m\"raw\"\u001b[0m\u001b[1;33m]\u001b[0m\u001b[1;33m\u001b[0m\u001b[1;33m\u001b[0m\u001b[0m\n",
      "\u001b[1;32m~\\Anaconda3\\envs\\mvTCR\\lib\\copy.py\u001b[0m in \u001b[0;36mdeepcopy\u001b[1;34m(x, memo, _nil)\u001b[0m\n\u001b[0;32m    144\u001b[0m     \u001b[0mcopier\u001b[0m \u001b[1;33m=\u001b[0m \u001b[0m_deepcopy_dispatch\u001b[0m\u001b[1;33m.\u001b[0m\u001b[0mget\u001b[0m\u001b[1;33m(\u001b[0m\u001b[0mcls\u001b[0m\u001b[1;33m)\u001b[0m\u001b[1;33m\u001b[0m\u001b[1;33m\u001b[0m\u001b[0m\n\u001b[0;32m    145\u001b[0m     \u001b[1;32mif\u001b[0m \u001b[0mcopier\u001b[0m \u001b[1;32mis\u001b[0m \u001b[1;32mnot\u001b[0m \u001b[1;32mNone\u001b[0m\u001b[1;33m:\u001b[0m\u001b[1;33m\u001b[0m\u001b[1;33m\u001b[0m\u001b[0m\n\u001b[1;32m--> 146\u001b[1;33m         \u001b[0my\u001b[0m \u001b[1;33m=\u001b[0m \u001b[0mcopier\u001b[0m\u001b[1;33m(\u001b[0m\u001b[0mx\u001b[0m\u001b[1;33m,\u001b[0m \u001b[0mmemo\u001b[0m\u001b[1;33m)\u001b[0m\u001b[1;33m\u001b[0m\u001b[1;33m\u001b[0m\u001b[0m\n\u001b[0m\u001b[0;32m    147\u001b[0m     \u001b[1;32melse\u001b[0m\u001b[1;33m:\u001b[0m\u001b[1;33m\u001b[0m\u001b[1;33m\u001b[0m\u001b[0m\n\u001b[0;32m    148\u001b[0m         \u001b[1;32mif\u001b[0m \u001b[0missubclass\u001b[0m\u001b[1;33m(\u001b[0m\u001b[0mcls\u001b[0m\u001b[1;33m,\u001b[0m \u001b[0mtype\u001b[0m\u001b[1;33m)\u001b[0m\u001b[1;33m:\u001b[0m\u001b[1;33m\u001b[0m\u001b[1;33m\u001b[0m\u001b[0m\n",
      "\u001b[1;32m~\\Anaconda3\\envs\\mvTCR\\lib\\copy.py\u001b[0m in \u001b[0;36m_deepcopy_dict\u001b[1;34m(x, memo, deepcopy)\u001b[0m\n\u001b[0;32m    228\u001b[0m     \u001b[0mmemo\u001b[0m\u001b[1;33m[\u001b[0m\u001b[0mid\u001b[0m\u001b[1;33m(\u001b[0m\u001b[0mx\u001b[0m\u001b[1;33m)\u001b[0m\u001b[1;33m]\u001b[0m \u001b[1;33m=\u001b[0m \u001b[0my\u001b[0m\u001b[1;33m\u001b[0m\u001b[1;33m\u001b[0m\u001b[0m\n\u001b[0;32m    229\u001b[0m     \u001b[1;32mfor\u001b[0m \u001b[0mkey\u001b[0m\u001b[1;33m,\u001b[0m \u001b[0mvalue\u001b[0m \u001b[1;32min\u001b[0m \u001b[0mx\u001b[0m\u001b[1;33m.\u001b[0m\u001b[0mitems\u001b[0m\u001b[1;33m(\u001b[0m\u001b[1;33m)\u001b[0m\u001b[1;33m:\u001b[0m\u001b[1;33m\u001b[0m\u001b[1;33m\u001b[0m\u001b[0m\n\u001b[1;32m--> 230\u001b[1;33m         \u001b[0my\u001b[0m\u001b[1;33m[\u001b[0m\u001b[0mdeepcopy\u001b[0m\u001b[1;33m(\u001b[0m\u001b[0mkey\u001b[0m\u001b[1;33m,\u001b[0m \u001b[0mmemo\u001b[0m\u001b[1;33m)\u001b[0m\u001b[1;33m]\u001b[0m \u001b[1;33m=\u001b[0m \u001b[0mdeepcopy\u001b[0m\u001b[1;33m(\u001b[0m\u001b[0mvalue\u001b[0m\u001b[1;33m,\u001b[0m \u001b[0mmemo\u001b[0m\u001b[1;33m)\u001b[0m\u001b[1;33m\u001b[0m\u001b[1;33m\u001b[0m\u001b[0m\n\u001b[0m\u001b[0;32m    231\u001b[0m     \u001b[1;32mreturn\u001b[0m \u001b[0my\u001b[0m\u001b[1;33m\u001b[0m\u001b[1;33m\u001b[0m\u001b[0m\n\u001b[0;32m    232\u001b[0m \u001b[0md\u001b[0m\u001b[1;33m[\u001b[0m\u001b[0mdict\u001b[0m\u001b[1;33m]\u001b[0m \u001b[1;33m=\u001b[0m \u001b[0m_deepcopy_dict\u001b[0m\u001b[1;33m\u001b[0m\u001b[1;33m\u001b[0m\u001b[0m\n",
      "\u001b[1;32m~\\Anaconda3\\envs\\mvTCR\\lib\\copy.py\u001b[0m in \u001b[0;36mdeepcopy\u001b[1;34m(x, memo, _nil)\u001b[0m\n\u001b[0;32m    144\u001b[0m     \u001b[0mcopier\u001b[0m \u001b[1;33m=\u001b[0m \u001b[0m_deepcopy_dispatch\u001b[0m\u001b[1;33m.\u001b[0m\u001b[0mget\u001b[0m\u001b[1;33m(\u001b[0m\u001b[0mcls\u001b[0m\u001b[1;33m)\u001b[0m\u001b[1;33m\u001b[0m\u001b[1;33m\u001b[0m\u001b[0m\n\u001b[0;32m    145\u001b[0m     \u001b[1;32mif\u001b[0m \u001b[0mcopier\u001b[0m \u001b[1;32mis\u001b[0m \u001b[1;32mnot\u001b[0m \u001b[1;32mNone\u001b[0m\u001b[1;33m:\u001b[0m\u001b[1;33m\u001b[0m\u001b[1;33m\u001b[0m\u001b[0m\n\u001b[1;32m--> 146\u001b[1;33m         \u001b[0my\u001b[0m \u001b[1;33m=\u001b[0m \u001b[0mcopier\u001b[0m\u001b[1;33m(\u001b[0m\u001b[0mx\u001b[0m\u001b[1;33m,\u001b[0m \u001b[0mmemo\u001b[0m\u001b[1;33m)\u001b[0m\u001b[1;33m\u001b[0m\u001b[1;33m\u001b[0m\u001b[0m\n\u001b[0m\u001b[0;32m    147\u001b[0m     \u001b[1;32melse\u001b[0m\u001b[1;33m:\u001b[0m\u001b[1;33m\u001b[0m\u001b[1;33m\u001b[0m\u001b[0m\n\u001b[0;32m    148\u001b[0m         \u001b[1;32mif\u001b[0m \u001b[0missubclass\u001b[0m\u001b[1;33m(\u001b[0m\u001b[0mcls\u001b[0m\u001b[1;33m,\u001b[0m \u001b[0mtype\u001b[0m\u001b[1;33m)\u001b[0m\u001b[1;33m:\u001b[0m\u001b[1;33m\u001b[0m\u001b[1;33m\u001b[0m\u001b[0m\n",
      "\u001b[1;32m~\\Anaconda3\\envs\\mvTCR\\lib\\copy.py\u001b[0m in \u001b[0;36m_deepcopy_dict\u001b[1;34m(x, memo, deepcopy)\u001b[0m\n\u001b[0;32m    228\u001b[0m     \u001b[0mmemo\u001b[0m\u001b[1;33m[\u001b[0m\u001b[0mid\u001b[0m\u001b[1;33m(\u001b[0m\u001b[0mx\u001b[0m\u001b[1;33m)\u001b[0m\u001b[1;33m]\u001b[0m \u001b[1;33m=\u001b[0m \u001b[0my\u001b[0m\u001b[1;33m\u001b[0m\u001b[1;33m\u001b[0m\u001b[0m\n\u001b[0;32m    229\u001b[0m     \u001b[1;32mfor\u001b[0m \u001b[0mkey\u001b[0m\u001b[1;33m,\u001b[0m \u001b[0mvalue\u001b[0m \u001b[1;32min\u001b[0m \u001b[0mx\u001b[0m\u001b[1;33m.\u001b[0m\u001b[0mitems\u001b[0m\u001b[1;33m(\u001b[0m\u001b[1;33m)\u001b[0m\u001b[1;33m:\u001b[0m\u001b[1;33m\u001b[0m\u001b[1;33m\u001b[0m\u001b[0m\n\u001b[1;32m--> 230\u001b[1;33m         \u001b[0my\u001b[0m\u001b[1;33m[\u001b[0m\u001b[0mdeepcopy\u001b[0m\u001b[1;33m(\u001b[0m\u001b[0mkey\u001b[0m\u001b[1;33m,\u001b[0m \u001b[0mmemo\u001b[0m\u001b[1;33m)\u001b[0m\u001b[1;33m]\u001b[0m \u001b[1;33m=\u001b[0m \u001b[0mdeepcopy\u001b[0m\u001b[1;33m(\u001b[0m\u001b[0mvalue\u001b[0m\u001b[1;33m,\u001b[0m \u001b[0mmemo\u001b[0m\u001b[1;33m)\u001b[0m\u001b[1;33m\u001b[0m\u001b[1;33m\u001b[0m\u001b[0m\n\u001b[0m\u001b[0;32m    231\u001b[0m     \u001b[1;32mreturn\u001b[0m \u001b[0my\u001b[0m\u001b[1;33m\u001b[0m\u001b[1;33m\u001b[0m\u001b[0m\n\u001b[0;32m    232\u001b[0m \u001b[0md\u001b[0m\u001b[1;33m[\u001b[0m\u001b[0mdict\u001b[0m\u001b[1;33m]\u001b[0m \u001b[1;33m=\u001b[0m \u001b[0m_deepcopy_dict\u001b[0m\u001b[1;33m\u001b[0m\u001b[1;33m\u001b[0m\u001b[0m\n",
      "\u001b[1;32m~\\Anaconda3\\envs\\mvTCR\\lib\\copy.py\u001b[0m in \u001b[0;36mdeepcopy\u001b[1;34m(x, memo, _nil)\u001b[0m\n\u001b[0;32m    144\u001b[0m     \u001b[0mcopier\u001b[0m \u001b[1;33m=\u001b[0m \u001b[0m_deepcopy_dispatch\u001b[0m\u001b[1;33m.\u001b[0m\u001b[0mget\u001b[0m\u001b[1;33m(\u001b[0m\u001b[0mcls\u001b[0m\u001b[1;33m)\u001b[0m\u001b[1;33m\u001b[0m\u001b[1;33m\u001b[0m\u001b[0m\n\u001b[0;32m    145\u001b[0m     \u001b[1;32mif\u001b[0m \u001b[0mcopier\u001b[0m \u001b[1;32mis\u001b[0m \u001b[1;32mnot\u001b[0m \u001b[1;32mNone\u001b[0m\u001b[1;33m:\u001b[0m\u001b[1;33m\u001b[0m\u001b[1;33m\u001b[0m\u001b[0m\n\u001b[1;32m--> 146\u001b[1;33m         \u001b[0my\u001b[0m \u001b[1;33m=\u001b[0m \u001b[0mcopier\u001b[0m\u001b[1;33m(\u001b[0m\u001b[0mx\u001b[0m\u001b[1;33m,\u001b[0m \u001b[0mmemo\u001b[0m\u001b[1;33m)\u001b[0m\u001b[1;33m\u001b[0m\u001b[1;33m\u001b[0m\u001b[0m\n\u001b[0m\u001b[0;32m    147\u001b[0m     \u001b[1;32melse\u001b[0m\u001b[1;33m:\u001b[0m\u001b[1;33m\u001b[0m\u001b[1;33m\u001b[0m\u001b[0m\n\u001b[0;32m    148\u001b[0m         \u001b[1;32mif\u001b[0m \u001b[0missubclass\u001b[0m\u001b[1;33m(\u001b[0m\u001b[0mcls\u001b[0m\u001b[1;33m,\u001b[0m \u001b[0mtype\u001b[0m\u001b[1;33m)\u001b[0m\u001b[1;33m:\u001b[0m\u001b[1;33m\u001b[0m\u001b[1;33m\u001b[0m\u001b[0m\n",
      "\u001b[1;32m~\\Anaconda3\\envs\\mvTCR\\lib\\copy.py\u001b[0m in \u001b[0;36m_deepcopy_dict\u001b[1;34m(x, memo, deepcopy)\u001b[0m\n\u001b[0;32m    228\u001b[0m     \u001b[0mmemo\u001b[0m\u001b[1;33m[\u001b[0m\u001b[0mid\u001b[0m\u001b[1;33m(\u001b[0m\u001b[0mx\u001b[0m\u001b[1;33m)\u001b[0m\u001b[1;33m]\u001b[0m \u001b[1;33m=\u001b[0m \u001b[0my\u001b[0m\u001b[1;33m\u001b[0m\u001b[1;33m\u001b[0m\u001b[0m\n\u001b[0;32m    229\u001b[0m     \u001b[1;32mfor\u001b[0m \u001b[0mkey\u001b[0m\u001b[1;33m,\u001b[0m \u001b[0mvalue\u001b[0m \u001b[1;32min\u001b[0m \u001b[0mx\u001b[0m\u001b[1;33m.\u001b[0m\u001b[0mitems\u001b[0m\u001b[1;33m(\u001b[0m\u001b[1;33m)\u001b[0m\u001b[1;33m:\u001b[0m\u001b[1;33m\u001b[0m\u001b[1;33m\u001b[0m\u001b[0m\n\u001b[1;32m--> 230\u001b[1;33m         \u001b[0my\u001b[0m\u001b[1;33m[\u001b[0m\u001b[0mdeepcopy\u001b[0m\u001b[1;33m(\u001b[0m\u001b[0mkey\u001b[0m\u001b[1;33m,\u001b[0m \u001b[0mmemo\u001b[0m\u001b[1;33m)\u001b[0m\u001b[1;33m]\u001b[0m \u001b[1;33m=\u001b[0m \u001b[0mdeepcopy\u001b[0m\u001b[1;33m(\u001b[0m\u001b[0mvalue\u001b[0m\u001b[1;33m,\u001b[0m \u001b[0mmemo\u001b[0m\u001b[1;33m)\u001b[0m\u001b[1;33m\u001b[0m\u001b[1;33m\u001b[0m\u001b[0m\n\u001b[0m\u001b[0;32m    231\u001b[0m     \u001b[1;32mreturn\u001b[0m \u001b[0my\u001b[0m\u001b[1;33m\u001b[0m\u001b[1;33m\u001b[0m\u001b[0m\n\u001b[0;32m    232\u001b[0m \u001b[0md\u001b[0m\u001b[1;33m[\u001b[0m\u001b[0mdict\u001b[0m\u001b[1;33m]\u001b[0m \u001b[1;33m=\u001b[0m \u001b[0m_deepcopy_dict\u001b[0m\u001b[1;33m\u001b[0m\u001b[1;33m\u001b[0m\u001b[0m\n",
      "\u001b[1;32m~\\Anaconda3\\envs\\mvTCR\\lib\\copy.py\u001b[0m in \u001b[0;36mdeepcopy\u001b[1;34m(x, memo, _nil)\u001b[0m\n\u001b[0;32m    144\u001b[0m     \u001b[0mcopier\u001b[0m \u001b[1;33m=\u001b[0m \u001b[0m_deepcopy_dispatch\u001b[0m\u001b[1;33m.\u001b[0m\u001b[0mget\u001b[0m\u001b[1;33m(\u001b[0m\u001b[0mcls\u001b[0m\u001b[1;33m)\u001b[0m\u001b[1;33m\u001b[0m\u001b[1;33m\u001b[0m\u001b[0m\n\u001b[0;32m    145\u001b[0m     \u001b[1;32mif\u001b[0m \u001b[0mcopier\u001b[0m \u001b[1;32mis\u001b[0m \u001b[1;32mnot\u001b[0m \u001b[1;32mNone\u001b[0m\u001b[1;33m:\u001b[0m\u001b[1;33m\u001b[0m\u001b[1;33m\u001b[0m\u001b[0m\n\u001b[1;32m--> 146\u001b[1;33m         \u001b[0my\u001b[0m \u001b[1;33m=\u001b[0m \u001b[0mcopier\u001b[0m\u001b[1;33m(\u001b[0m\u001b[0mx\u001b[0m\u001b[1;33m,\u001b[0m \u001b[0mmemo\u001b[0m\u001b[1;33m)\u001b[0m\u001b[1;33m\u001b[0m\u001b[1;33m\u001b[0m\u001b[0m\n\u001b[0m\u001b[0;32m    147\u001b[0m     \u001b[1;32melse\u001b[0m\u001b[1;33m:\u001b[0m\u001b[1;33m\u001b[0m\u001b[1;33m\u001b[0m\u001b[0m\n\u001b[0;32m    148\u001b[0m         \u001b[1;32mif\u001b[0m \u001b[0missubclass\u001b[0m\u001b[1;33m(\u001b[0m\u001b[0mcls\u001b[0m\u001b[1;33m,\u001b[0m \u001b[0mtype\u001b[0m\u001b[1;33m)\u001b[0m\u001b[1;33m:\u001b[0m\u001b[1;33m\u001b[0m\u001b[1;33m\u001b[0m\u001b[0m\n",
      "\u001b[1;32m~\\Anaconda3\\envs\\mvTCR\\lib\\copy.py\u001b[0m in \u001b[0;36m_deepcopy_dict\u001b[1;34m(x, memo, deepcopy)\u001b[0m\n\u001b[0;32m    228\u001b[0m     \u001b[0mmemo\u001b[0m\u001b[1;33m[\u001b[0m\u001b[0mid\u001b[0m\u001b[1;33m(\u001b[0m\u001b[0mx\u001b[0m\u001b[1;33m)\u001b[0m\u001b[1;33m]\u001b[0m \u001b[1;33m=\u001b[0m \u001b[0my\u001b[0m\u001b[1;33m\u001b[0m\u001b[1;33m\u001b[0m\u001b[0m\n\u001b[0;32m    229\u001b[0m     \u001b[1;32mfor\u001b[0m \u001b[0mkey\u001b[0m\u001b[1;33m,\u001b[0m \u001b[0mvalue\u001b[0m \u001b[1;32min\u001b[0m \u001b[0mx\u001b[0m\u001b[1;33m.\u001b[0m\u001b[0mitems\u001b[0m\u001b[1;33m(\u001b[0m\u001b[1;33m)\u001b[0m\u001b[1;33m:\u001b[0m\u001b[1;33m\u001b[0m\u001b[1;33m\u001b[0m\u001b[0m\n\u001b[1;32m--> 230\u001b[1;33m         \u001b[0my\u001b[0m\u001b[1;33m[\u001b[0m\u001b[0mdeepcopy\u001b[0m\u001b[1;33m(\u001b[0m\u001b[0mkey\u001b[0m\u001b[1;33m,\u001b[0m \u001b[0mmemo\u001b[0m\u001b[1;33m)\u001b[0m\u001b[1;33m]\u001b[0m \u001b[1;33m=\u001b[0m \u001b[0mdeepcopy\u001b[0m\u001b[1;33m(\u001b[0m\u001b[0mvalue\u001b[0m\u001b[1;33m,\u001b[0m \u001b[0mmemo\u001b[0m\u001b[1;33m)\u001b[0m\u001b[1;33m\u001b[0m\u001b[1;33m\u001b[0m\u001b[0m\n\u001b[0m\u001b[0;32m    231\u001b[0m     \u001b[1;32mreturn\u001b[0m \u001b[0my\u001b[0m\u001b[1;33m\u001b[0m\u001b[1;33m\u001b[0m\u001b[0m\n\u001b[0;32m    232\u001b[0m \u001b[0md\u001b[0m\u001b[1;33m[\u001b[0m\u001b[0mdict\u001b[0m\u001b[1;33m]\u001b[0m \u001b[1;33m=\u001b[0m \u001b[0m_deepcopy_dict\u001b[0m\u001b[1;33m\u001b[0m\u001b[1;33m\u001b[0m\u001b[0m\n",
      "\u001b[1;32m~\\Anaconda3\\envs\\mvTCR\\lib\\copy.py\u001b[0m in \u001b[0;36mdeepcopy\u001b[1;34m(x, memo, _nil)\u001b[0m\n\u001b[0;32m    151\u001b[0m             \u001b[0mcopier\u001b[0m \u001b[1;33m=\u001b[0m \u001b[0mgetattr\u001b[0m\u001b[1;33m(\u001b[0m\u001b[0mx\u001b[0m\u001b[1;33m,\u001b[0m \u001b[1;34m\"__deepcopy__\"\u001b[0m\u001b[1;33m,\u001b[0m \u001b[1;32mNone\u001b[0m\u001b[1;33m)\u001b[0m\u001b[1;33m\u001b[0m\u001b[1;33m\u001b[0m\u001b[0m\n\u001b[0;32m    152\u001b[0m             \u001b[1;32mif\u001b[0m \u001b[0mcopier\u001b[0m \u001b[1;32mis\u001b[0m \u001b[1;32mnot\u001b[0m \u001b[1;32mNone\u001b[0m\u001b[1;33m:\u001b[0m\u001b[1;33m\u001b[0m\u001b[1;33m\u001b[0m\u001b[0m\n\u001b[1;32m--> 153\u001b[1;33m                 \u001b[0my\u001b[0m \u001b[1;33m=\u001b[0m \u001b[0mcopier\u001b[0m\u001b[1;33m(\u001b[0m\u001b[0mmemo\u001b[0m\u001b[1;33m)\u001b[0m\u001b[1;33m\u001b[0m\u001b[1;33m\u001b[0m\u001b[0m\n\u001b[0m\u001b[0;32m    154\u001b[0m             \u001b[1;32melse\u001b[0m\u001b[1;33m:\u001b[0m\u001b[1;33m\u001b[0m\u001b[1;33m\u001b[0m\u001b[0m\n\u001b[0;32m    155\u001b[0m                 \u001b[0mreductor\u001b[0m \u001b[1;33m=\u001b[0m \u001b[0mdispatch_table\u001b[0m\u001b[1;33m.\u001b[0m\u001b[0mget\u001b[0m\u001b[1;33m(\u001b[0m\u001b[0mcls\u001b[0m\u001b[1;33m)\u001b[0m\u001b[1;33m\u001b[0m\u001b[1;33m\u001b[0m\u001b[0m\n",
      "\u001b[1;31mMemoryError\u001b[0m: Unable to allocate 3.10 GiB for an array with shape (16628146, 50) and data type float32"
     ]
    }
   ],
   "source": [
    "splits_haniffa = {}\n",
    "\n",
    "for i in range(0, 5):\n",
    "    random_seed = i\n",
    "    adata_tmp = adata.copy()\n",
    "    sc.pp.subsample(adata_tmp, n_obs=30000, random_state=random_seed)\n",
    "    train_val, test = group_shuffle_split(adata_tmp, group_col='cdr3_beta', val_split=0.20, random_seed=random_seed)\n",
    "    train, val = group_shuffle_split(train_val, group_col='cdr3_beta', val_split=0.25, random_seed=random_seed)\n",
    "\n",
    "    adata_tmp.obs['set'] = 'train'\n",
    "    adata_tmp.obs.loc[val.obs.index, 'set'] = 'val'\n",
    "    adata_tmp.obs.loc[test.obs.index, 'set'] = 'test'\n",
    "    adata_tmp = adata_tmp[adata_tmp.obs['set'].isin(['train', 'test'])]\n",
    "\n",
    "    splits_haniffa[f'split_{i}'] = adata_tmp.copy()"
   ]
  },
  {
   "cell_type": "code",
   "execution_count": null,
   "id": "38e98c85",
   "metadata": {},
   "outputs": [],
   "source": [
    "path_base = f'../mvTCR/data/tessa/Haniffa/'\n",
    "if not os.path.exists(path_base):\n",
    "    os.mkdir(path_base)\n",
    "\n",
    "for split, adata in splits_haniffa.items():\n",
    "    df_tcr = adata.obs[['cdr3_beta', 'T_cells', 'reactivity' , 'set']]\n",
    "    df_tcr['cdr3'] = [seq[1:-1] for seq in df_tcr['TRB_1_cdr3']]\n",
    "\n",
    "    df_tcr = df_tcr[['cdr3', 'full_clustering', 'set']]\n",
    "    df_tcr.index.name = 'contig_id'\n",
    "\n",
    "    df_tcr.to_csv(path_base+f'{split}_tcrs_atlas.csv')"
   ]
  },
  {
   "cell_type": "code",
   "execution_count": null,
   "id": "76bccb7e",
   "metadata": {},
   "outputs": [],
   "source": [
    "path_base = f'../mvTCR/data/tessa/Haniffa/'\n",
    "\n",
    "for split, adata in splits_haniffa.items():\n",
    "    count_mat = adata.X.A\n",
    "    df_counts = pd.DataFrame(count_mat)\n",
    "\n",
    "    df_counts.index = adata.obs.index\n",
    "    df_counts.index.name = ''\n",
    "    df_counts.columns = adata.var.index\n",
    "\n",
    "    df_counts = df_counts.transpose()\n",
    "    df_counts.to_csv(path_base+f'{split}_scRNA_atlas.csv')"
   ]
  },
  {
   "cell_type": "markdown",
   "id": "aa9d322b",
   "metadata": {},
   "source": [
    "## Borcherding Dataset"
   ]
  },
  {
   "cell_type": "code",
   "execution_count": 2,
   "id": "fbbed8f2",
   "metadata": {},
   "outputs": [],
   "source": [
    "path_borch_adata = '../mvTCR/data/Borcherding/04_borch_annotated.h5ad'\n",
    "adata = sc.read_h5ad(path_borch_adata)"
   ]
  },
  {
   "cell_type": "code",
   "execution_count": null,
   "id": "30f3f82f",
   "metadata": {},
   "outputs": [],
   "source": [
    "splits_borch = {}\n",
    "\n",
    "for i in range(0, 5):\n",
    "    random_seed = i\n",
    "    adata_tmp = adata.copy()\n",
    "    sc.pp.subsample(adata_tmp, n_obs=30000, random_state=random_seed)\n",
    "    train_val, test = group_shuffle_split(adata_tmp, group_col='cdr3_beta', val_split=0.20, random_seed=random_seed)\n",
    "    train, val = group_shuffle_split(train_val, group_col='cdr3_beta', val_split=0.25, random_seed=random_seed)\n",
    "\n",
    "    adata_tmp.obs['set'] = 'train'\n",
    "    adata_tmp.obs.loc[val.obs.index, 'set'] = 'val'\n",
    "    adata_tmp.obs.loc[test.obs.index, 'set'] = 'test'\n",
    "    adata_tmp = adata_tmp[adata_tmp.obs['set'].isin(['train', 'test'])]\n",
    "\n",
    "    splits_borch[f'split_{i}'] = adata_tmp.copy()"
   ]
  },
  {
   "cell_type": "code",
   "execution_count": null,
   "id": "38e98c85",
   "metadata": {},
   "outputs": [],
   "source": [
    "path_base = f'../mvTCR/data/tessa/Borcherding/'\n",
    "if not os.path.exists(path_base):\n",
    "    os.mkdir(path_base)\n",
    "\n",
    "for split, adata in splits_borch.items():\n",
    "    df_tcr = adata.obs[['cdr3_beta', 'T_cells', 'reactivity' , 'set']]\n",
    "    df_tcr['cdr3'] = [seq[1:-1] for seq in df_tcr['TRB_1_cdr3']]\n",
    "\n",
    "    df_tcr = df_tcr[['cdr3', 'full_clustering', 'set']]\n",
    "    df_tcr.index.name = 'contig_id'\n",
    "\n",
    "    df_tcr.to_csv(path_base+f'{split}_tcrs_atlas.csv')"
   ]
  },
  {
   "cell_type": "code",
   "execution_count": null,
   "id": "76bccb7e",
   "metadata": {},
   "outputs": [],
   "source": [
    "path_base = f'../mvTCR/data/tessa/Borcherding/'\n",
    "\n",
    "for split, adata in splits_borch.items():\n",
    "    count_mat = adata.X.A\n",
    "    df_counts = pd.DataFrame(count_mat)\n",
    "\n",
    "    df_counts.index = adata.obs.index\n",
    "    df_counts.index.name = ''\n",
    "    df_counts.columns = adata.var.index\n",
    "\n",
    "    df_counts = df_counts.transpose()\n",
    "    df_counts.to_csv(path_base+f'{split}_scRNA_atlas.csv')"
   ]
  },
  {
   "cell_type": "markdown",
   "id": "397f0542",
   "metadata": {},
   "source": [
    "## Minervina Data"
   ]
  },
  {
   "cell_type": "code",
   "execution_count": 2,
   "id": "fbbed8f2",
   "metadata": {},
   "outputs": [],
   "source": [
    "path_min_adata = '../mvTCR/data/Borcherding/01_annotated_data.h5ad'\n",
    "adata = sc.read_h5ad(path_min_adata)"
   ]
  },
  {
   "cell_type": "code",
   "execution_count": null,
   "id": "30f3f82f",
   "metadata": {},
   "outputs": [],
   "source": [
    "splits_min = {}\n",
    "\n",
    "for i in range(0, 5):\n",
    "    random_seed = i\n",
    "    adata_tmp = adata.copy()\n",
    "    sc.pp.subsample(adata_tmp, n_obs=30000, random_state=random_seed)\n",
    "    train_val, test = group_shuffle_split(adata_tmp, group_col='cdr3_beta', val_split=0.20, random_seed=random_seed)\n",
    "    train, val = group_shuffle_split(train_val, group_col='cdr3_beta', val_split=0.25, random_seed=random_seed)\n",
    "\n",
    "    adata_tmp.obs['set'] = 'train'\n",
    "    adata_tmp.obs.loc[val.obs.index, 'set'] = 'val'\n",
    "    adata_tmp.obs.loc[test.obs.index, 'set'] = 'test'\n",
    "    adata_tmp = adata_tmp[adata_tmp.obs['set'].isin(['train', 'test'])]\n",
    "\n",
    "    splits_min[f'split_{i}'] = adata_tmp.copy()"
   ]
  },
  {
   "cell_type": "code",
   "execution_count": null,
   "id": "38e98c85",
   "metadata": {},
   "outputs": [],
   "source": [
    "path_base = f'../mvTCR/data/tessa/Minervina/'\n",
    "if not os.path.exists(path_base):\n",
    "    os.mkdir(path_base)\n",
    "\n",
    "for split, adata in splits_min.items():\n",
    "    df_tcr = adata.obs[['cdr3_beta', 'T_cells', 'reactivity' , 'set']]\n",
    "    df_tcr['cdr3'] = [seq[1:-1] for seq in df_tcr['TRB_1_cdr3']]\n",
    "\n",
    "    df_tcr = df_tcr[['cdr3', 'full_clustering', 'set']]\n",
    "    df_tcr.index.name = 'contig_id'\n",
    "\n",
    "    df_tcr.to_csv(path_base+f'{split}_tcrs_atlas.csv')"
   ]
  },
  {
   "cell_type": "code",
   "execution_count": null,
   "id": "76bccb7e",
   "metadata": {},
   "outputs": [],
   "source": [
    "path_base = f'../mvTCR/data/tessa/Minervina/'\n",
    "\n",
    "for split, adata in splits_min.items():\n",
    "    count_mat = adata.X.A\n",
    "    df_counts = pd.DataFrame(count_mat)\n",
    "\n",
    "    df_counts.index = adata.obs.index\n",
    "    df_counts.index.name = ''\n",
    "    df_counts.columns = adata.var.index\n",
    "\n",
    "    df_counts = df_counts.transpose()\n",
    "    df_counts.to_csv(path_base+f'{split}_scRNA_atlas.csv')"
   ]
  },
  {
   "cell_type": "code",
   "execution_count": null,
   "id": "8fc29a58",
   "metadata": {},
   "outputs": [],
   "source": []
  },
  {
   "cell_type": "code",
   "execution_count": null,
   "id": "4881a5c5",
   "metadata": {},
   "outputs": [],
   "source": []
  },
  {
   "cell_type": "code",
   "execution_count": null,
   "id": "0e3c0201",
   "metadata": {},
   "outputs": [],
   "source": []
  },
  {
   "cell_type": "code",
   "execution_count": null,
   "id": "58ad19fd",
   "metadata": {},
   "outputs": [],
   "source": []
  },
  {
   "cell_type": "code",
   "execution_count": null,
   "id": "d961f02b",
   "metadata": {},
   "outputs": [],
   "source": []
  },
  {
   "cell_type": "code",
   "execution_count": null,
   "id": "dfff0b9e",
   "metadata": {},
   "outputs": [],
   "source": []
  }
 ],
 "metadata": {
  "kernelspec": {
   "display_name": "Python [conda env:mvTCR]",
   "language": "python",
   "name": "conda-env-mvTCR-py"
  },
  "language_info": {
   "codemirror_mode": {
    "name": "ipython",
    "version": 3
   },
   "file_extension": ".py",
   "mimetype": "text/x-python",
   "name": "python",
   "nbconvert_exporter": "python",
   "pygments_lexer": "ipython3",
   "version": "3.8.8"
  }
 },
 "nbformat": 4,
 "nbformat_minor": 5
}
