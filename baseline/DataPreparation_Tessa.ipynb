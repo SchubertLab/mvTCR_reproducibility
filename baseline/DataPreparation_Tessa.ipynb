{
 "cells": [
  {
   "cell_type": "markdown",
   "id": "30dff572",
   "metadata": {},
   "source": [
    "# Data Preperation for TESSA evaluation\n",
    "\n",
    "Here, we perpare our data to the format of TESSA from:\n",
    "\n",
    "Zhang Z, Xiong D, Wang X, Liu H, Wang T. Mapping the functional landscape of T cell receptor repertoires by single-T cell transcriptomics. Nat Methods. 2021.\n",
    "\n",
    "https://www.nature.com/articles/s41592-020-01020-3\n",
    "\n",
    "Clone the Github repository from https://github.com/jcao89757/TESSA to the folder 'baseline'."
   ]
  },
  {
   "cell_type": "code",
   "execution_count": 1,
   "id": "edf273bc",
   "metadata": {},
   "outputs": [],
   "source": [
    "import scanpy as sc\n",
    "import pandas as pd\n",
    "import os\n",
    "\n",
    "from tqdm import tqdm\n",
    "\n",
    "import sys"
   ]
  },
  {
   "cell_type": "code",
   "execution_count": 2,
   "id": "97e4a563",
   "metadata": {},
   "outputs": [
    {
     "name": "stderr",
     "output_type": "stream",
     "text": [
      "/home/icb/felix.drost/miniconda3/envs/mvtcr_prepro/lib/python3.8/site-packages/tqdm/auto.py:22: TqdmWarning: IProgress not found. Please update jupyter and ipywidgets. See https://ipywidgets.readthedocs.io/en/stable/user_install.html\n",
      "  from .autonotebook import tqdm as notebook_tqdm\n"
     ]
    }
   ],
   "source": [
    "sys.path.insert(0, '../mvTCR')\n",
    "from tcr_embedding.utils_preprocessing import group_shuffle_split\n",
    "import config.constants_10x as const"
   ]
  },
  {
   "cell_type": "markdown",
   "id": "53fa43fc",
   "metadata": {},
   "source": [
    "## Haniffa Dataset"
   ]
  },
  {
   "cell_type": "code",
   "execution_count": 3,
   "id": "b22e6bf0",
   "metadata": {},
   "outputs": [],
   "source": [
    "path_haniffa_adata = '../mvTCR/data/Haniffa/v3_conditional.h5ad'\n",
    "adata = sc.read_h5ad(path_haniffa_adata)"
   ]
  },
  {
   "cell_type": "code",
   "execution_count": 4,
   "id": "7a26133b",
   "metadata": {},
   "outputs": [
    {
     "name": "stderr",
     "output_type": "stream",
     "text": [
      "100%|████████████████████████████████████████████████████████████████████| 5/5 [00:28<00:00,  5.75s/it]\n"
     ]
    }
   ],
   "source": [
    "splits_haniffa = {}\n",
    "\n",
    "for i in tqdm(range(0, 5)):\n",
    "    random_seed = i\n",
    "    adata_tmp = adata.copy()\n",
    "    sc.pp.subsample(adata_tmp, n_obs=20000, random_state=random_seed)\n",
    "    train, val = group_shuffle_split(adata_tmp, group_col='cdr3_beta', val_split=0.20, random_seed=random_seed)\n",
    "\n",
    "    adata_tmp.obs['set'] = 'train'\n",
    "    adata_tmp.obs.loc[val.obs.index, 'set'] = 'val'\n",
    "    adata_tmp = adata_tmp[adata_tmp.obs['set'].isin(['train', 'val'])]\n",
    "\n",
    "    splits_haniffa[f'split_{i}'] = adata_tmp.copy()"
   ]
  },
  {
   "cell_type": "code",
   "execution_count": 5,
   "id": "3a2e8c88",
   "metadata": {},
   "outputs": [
    {
     "name": "stderr",
     "output_type": "stream",
     "text": [
      "  0%|                                                                            | 0/5 [00:00<?, ?it/s]/tmp/ipykernel_100879/570519485.py:7: SettingWithCopyWarning: \n",
      "A value is trying to be set on a copy of a slice from a DataFrame.\n",
      "Try using .loc[row_indexer,col_indexer] = value instead\n",
      "\n",
      "See the caveats in the documentation: https://pandas.pydata.org/pandas-docs/stable/user_guide/indexing.html#returning-a-view-versus-a-copy\n",
      "  df_tcr['cdr3'] = [seq[1:-1] for seq in df_tcr['cdr3_beta']]\n",
      "100%|████████████████████████████████████████████████████████████████████| 5/5 [00:01<00:00,  4.96it/s]\n"
     ]
    }
   ],
   "source": [
    "path_base = f'../mvTCR/data/tessa/Haniffa/'\n",
    "if not os.path.exists(path_base):\n",
    "    os.mkdir(path_base)\n",
    "\n",
    "for split, adata in tqdm(splits_haniffa.items()):\n",
    "    df_tcr = adata.obs[['cdr3_beta', 'full_clustering' , 'set']]\n",
    "    df_tcr['cdr3'] = [seq[1:-1] for seq in df_tcr['cdr3_beta']]\n",
    "\n",
    "    df_tcr = df_tcr[['cdr3', 'full_clustering', 'set']]\n",
    "    df_tcr.index.name = 'contig_id'\n",
    "\n",
    "    df_tcr.to_csv(path_base+f'{split}_tcrs_atlas.csv')"
   ]
  },
  {
   "cell_type": "code",
   "execution_count": 6,
   "id": "52e31e44",
   "metadata": {},
   "outputs": [
    {
     "name": "stderr",
     "output_type": "stream",
     "text": [
      "100%|████████████████████████████████████████████████████████████████████| 5/5 [04:28<00:00, 53.77s/it]\n"
     ]
    }
   ],
   "source": [
    "path_base = f'../mvTCR/data/tessa/Haniffa/'\n",
    "\n",
    "for split, adata in tqdm(splits_haniffa.items()):\n",
    "    count_mat = adata.X.A\n",
    "    df_counts = pd.DataFrame(count_mat)\n",
    "\n",
    "    df_counts.index = adata.obs.index\n",
    "    df_counts.index.name = ''\n",
    "    df_counts.columns = adata.var.index\n",
    "\n",
    "    df_counts = df_counts.transpose()\n",
    "    df_counts.to_csv(path_base+f'{split}_scRNA_atlas.csv')"
   ]
  },
  {
   "cell_type": "code",
   "execution_count": 7,
   "id": "966cc1da",
   "metadata": {},
   "outputs": [],
   "source": [
    "del splits_haniffa"
   ]
  },
  {
   "cell_type": "markdown",
   "id": "aa9d322b",
   "metadata": {},
   "source": [
    "## Borcherding Dataset"
   ]
  },
  {
   "cell_type": "code",
   "execution_count": 8,
   "id": "177d2aa1",
   "metadata": {},
   "outputs": [],
   "source": [
    "path_borch_adata = '../mvTCR/data/Borcherding/04_borch_annotated.h5ad'\n",
    "adata = sc.read_h5ad(path_borch_adata)\n",
    "adata.obs = adata.obs.replace('nan', 'Unknown')"
   ]
  },
  {
   "cell_type": "code",
   "execution_count": 9,
   "id": "8d85db20",
   "metadata": {},
   "outputs": [
    {
     "name": "stderr",
     "output_type": "stream",
     "text": [
      "100%|████████████████████████████████████████████████████████████████████| 5/5 [00:14<00:00,  2.91s/it]\n"
     ]
    }
   ],
   "source": [
    "splits_borch = {}\n",
    "\n",
    "for i in tqdm(range(0, 5)):\n",
    "    random_seed = i\n",
    "    adata_tmp = adata.copy()\n",
    "    sc.pp.subsample(adata_tmp, n_obs=20000, random_state=random_seed)\n",
    "    train, val = group_shuffle_split(adata_tmp, group_col='IR_VDJ_1_junction_aa', val_split=0.20, random_seed=random_seed)\n",
    "\n",
    "    adata_tmp.obs['set'] = 'train'\n",
    "    adata_tmp.obs.loc[val.obs.index, 'set'] = 'val'\n",
    "    adata_tmp = adata_tmp[adata_tmp.obs['set'].isin(['train', 'val'])]\n",
    "\n",
    "    splits_borch[f'split_{i}'] = adata_tmp.copy()"
   ]
  },
  {
   "cell_type": "code",
   "execution_count": 10,
   "id": "3e222899",
   "metadata": {},
   "outputs": [
    {
     "name": "stderr",
     "output_type": "stream",
     "text": [
      "  0%|                                                                            | 0/5 [00:00<?, ?it/s]/tmp/ipykernel_100879/2953044041.py:7: SettingWithCopyWarning: \n",
      "A value is trying to be set on a copy of a slice from a DataFrame.\n",
      "Try using .loc[row_indexer,col_indexer] = value instead\n",
      "\n",
      "See the caveats in the documentation: https://pandas.pydata.org/pandas-docs/stable/user_guide/indexing.html#returning-a-view-versus-a-copy\n",
      "  df_tcr['functional.cluster'] = df_tcr['functional.cluster'].astype(str)\n",
      "/tmp/ipykernel_100879/2953044041.py:8: SettingWithCopyWarning: \n",
      "A value is trying to be set on a copy of a slice from a DataFrame.\n",
      "Try using .loc[row_indexer,col_indexer] = value instead\n",
      "\n",
      "See the caveats in the documentation: https://pandas.pydata.org/pandas-docs/stable/user_guide/indexing.html#returning-a-view-versus-a-copy\n",
      "  df_tcr['cdr3'] = [seq[1:-1] for seq in df_tcr['IR_VDJ_1_junction_aa']]\n",
      "100%|████████████████████████████████████████████████████████████████████| 5/5 [00:00<00:00,  9.53it/s]\n"
     ]
    }
   ],
   "source": [
    "path_base = f'../mvTCR/data/tessa/Borcherding/'\n",
    "if not os.path.exists(path_base):\n",
    "    os.mkdir(path_base)\n",
    "\n",
    "for split, adata in tqdm(splits_borch.items()):\n",
    "    df_tcr = adata.obs[['IR_VDJ_1_junction_aa', 'functional.cluster' , 'set']]\n",
    "    df_tcr['functional.cluster'] = df_tcr['functional.cluster'].astype(str)\n",
    "    df_tcr['cdr3'] = [seq[1:-1] for seq in df_tcr['IR_VDJ_1_junction_aa']]\n",
    "    \n",
    "\n",
    "    df_tcr = df_tcr[['cdr3', 'functional.cluster', 'set']]\n",
    "    df_tcr.index.name = 'contig_id'\n",
    "\n",
    "    df_tcr.to_csv(path_base+f'{split}_tcrs_atlas.csv')"
   ]
  },
  {
   "cell_type": "code",
   "execution_count": 11,
   "id": "cd7195ae",
   "metadata": {},
   "outputs": [
    {
     "name": "stderr",
     "output_type": "stream",
     "text": [
      "100%|████████████████████████████████████████████████████████████████████| 5/5 [04:31<00:00, 54.32s/it]\n"
     ]
    }
   ],
   "source": [
    "path_base = f'../mvTCR/data/tessa/Borcherding/'\n",
    "\n",
    "for split, adata in tqdm(splits_borch.items()):\n",
    "    count_mat = adata.X.A\n",
    "    df_counts = pd.DataFrame(count_mat)\n",
    "\n",
    "    df_counts.index = adata.obs.index\n",
    "    df_counts.index.name = ''\n",
    "    df_counts.columns = adata.var.index\n",
    "\n",
    "    df_counts = df_counts.transpose()\n",
    "    df_counts.to_csv(path_base+f'{split}_scRNA_atlas.csv')"
   ]
  },
  {
   "cell_type": "code",
   "execution_count": 12,
   "id": "c49f6bd2",
   "metadata": {},
   "outputs": [],
   "source": [
    "del splits_borch"
   ]
  },
  {
   "cell_type": "markdown",
   "id": "397f0542",
   "metadata": {},
   "source": [
    "## Minervina Data"
   ]
  },
  {
   "cell_type": "code",
   "execution_count": 13,
   "id": "b29a6412",
   "metadata": {},
   "outputs": [],
   "source": [
    "path_min_adata = '../mvTCR/data/Minervina/01_annotated_data.h5ad'\n",
    "adata = sc.read_h5ad(path_min_adata)"
   ]
  },
  {
   "cell_type": "code",
   "execution_count": 14,
   "id": "d50ce21d",
   "metadata": {},
   "outputs": [
    {
     "name": "stderr",
     "output_type": "stream",
     "text": [
      "100%|████████████████████████████████████████████████████████████████████| 5/5 [00:01<00:00,  4.74it/s]\n"
     ]
    }
   ],
   "source": [
    "splits_min = {}\n",
    "\n",
    "for i in tqdm(range(0, 5)):\n",
    "    random_seed = i\n",
    "    adata_tmp = adata.copy()\n",
    "    train_val, test = group_shuffle_split(adata_tmp, group_col='IR_VDJ_1_junction_aa', val_split=0.20, random_seed=random_seed)\n",
    "    train, val = group_shuffle_split(train_val, group_col='IR_VDJ_1_junction_aa', val_split=0.25, random_seed=random_seed)\n",
    "\n",
    "    adata_tmp.obs['set'] = 'train'\n",
    "    adata_tmp.obs.loc[val.obs.index, 'set'] = 'val'\n",
    "    adata_tmp.obs.loc[test.obs.index, 'set'] = 'test'\n",
    "    adata_tmp = adata_tmp[adata_tmp.obs['set'].isin(['train', 'test'])]\n",
    "\n",
    "    splits_min[f'split_{i}'] = adata_tmp.copy()"
   ]
  },
  {
   "cell_type": "code",
   "execution_count": 15,
   "id": "9639da8f",
   "metadata": {},
   "outputs": [
    {
     "name": "stderr",
     "output_type": "stream",
     "text": [
      "  0%|                                                                            | 0/5 [00:00<?, ?it/s]/tmp/ipykernel_100879/3026476230.py:7: SettingWithCopyWarning: \n",
      "A value is trying to be set on a copy of a slice from a DataFrame.\n",
      "Try using .loc[row_indexer,col_indexer] = value instead\n",
      "\n",
      "See the caveats in the documentation: https://pandas.pydata.org/pandas-docs/stable/user_guide/indexing.html#returning-a-view-versus-a-copy\n",
      "  df_tcr['cdr3'] = [seq[1:-1] for seq in df_tcr['IR_VDJ_1_junction_aa']]\n",
      "100%|████████████████████████████████████████████████████████████████████| 5/5 [00:00<00:00, 15.53it/s]\n"
     ]
    }
   ],
   "source": [
    "path_base = f'../mvTCR/data/tessa/Minervina/'\n",
    "if not os.path.exists(path_base):\n",
    "    os.mkdir(path_base)\n",
    "\n",
    "for split, adata in tqdm(splits_min.items()):\n",
    "    df_tcr = adata.obs[['IR_VDJ_1_junction_aa', 'epitope', 'set']]\n",
    "    df_tcr['cdr3'] = [seq[1:-1] for seq in df_tcr['IR_VDJ_1_junction_aa']]\n",
    "\n",
    "    df_tcr = df_tcr[['cdr3', 'epitope', 'set']]\n",
    "    df_tcr.index.name = 'contig_id'\n",
    "\n",
    "    df_tcr_train = df_tcr[df_tcr['set']=='train']\n",
    "    df_tcr_test = df_tcr[df_tcr['set']=='test']\n",
    "\n",
    "    df_tcr_train.to_csv(path_base+f'{split}_tcrs_atlas.csv')\n",
    "    df_tcr_test.to_csv(path_base+f'{split}_tcrs_query.csv')"
   ]
  },
  {
   "cell_type": "code",
   "execution_count": 16,
   "id": "a780886f",
   "metadata": {},
   "outputs": [
    {
     "name": "stderr",
     "output_type": "stream",
     "text": [
      "100%|████████████████████████████████████████████████████████████████████| 5/5 [01:02<00:00, 12.40s/it]\n"
     ]
    }
   ],
   "source": [
    "path_base = f'../mvTCR/data/tessa/Minervina/'\n",
    "\n",
    "for split, adata in tqdm(splits_min.items()):\n",
    "    count_mat = adata.X.A\n",
    "    df_counts = pd.DataFrame(count_mat)\n",
    "\n",
    "    df_counts.index = adata.obs.index\n",
    "    df_counts.index.name = ''\n",
    "    df_counts.columns = adata.var.index\n",
    "\n",
    "    df_counts_train = df_counts[adata.obs['set']=='train']\n",
    "    df_counts_test = df_counts[adata.obs['set']=='test']\n",
    "\n",
    "\n",
    "    df_counts_train = df_counts_train.transpose()\n",
    "    df_counts_test = df_counts_test.transpose()\n",
    "\n",
    "    df_counts_train.to_csv(path_base+f'{split}_scRNA_atlas.csv')\n",
    "    df_counts_test.to_csv(path_base+f'{split}_scRNA_query.csv')"
   ]
  },
  {
   "cell_type": "code",
   "execution_count": 17,
   "id": "d542b568",
   "metadata": {},
   "outputs": [],
   "source": [
    "del splits_min"
   ]
  },
  {
   "cell_type": "markdown",
   "id": "8b82ce64",
   "metadata": {},
   "source": [
    "# 10x Dataset"
   ]
  },
  {
   "cell_type": "code",
   "execution_count": 18,
   "id": "c7aed31b",
   "metadata": {
    "scrolled": true
   },
   "outputs": [
    {
     "name": "stderr",
     "output_type": "stream",
     "text": [
      "/tmp/ipykernel_100879/2351229261.py:10: ImplicitModificationWarning: Trying to modify attribute `.obs` of view, initializing view as actual.\n",
      "  new_ad.obs['binding_name'] = new_ad.obs['binding_name'].astype(str)\n"
     ]
    }
   ],
   "source": [
    "path_10x_adata = '../mvTCR/data/10x_CD8TC/v6_supervised.h5ad'\n",
    "adata = sc.read_h5ad(path_10x_adata)\n",
    "\n",
    "adatas_per_donor = []\n",
    "for i in range(1, 6):\n",
    "    if i == 5:\n",
    "        new_ad = adata\n",
    "    else:\n",
    "        new_ad = adata[adata.obs['donor']== f'donor_{i}']\n",
    "    new_ad.obs['binding_name'] = new_ad.obs['binding_name'].astype(str)\n",
    "    new_ad = new_ad[(new_ad.obs['binding_name'].isin(const.HIGH_COUNT_ANTIGENS))]\n",
    "    adatas_per_donor.append(new_ad.copy())"
   ]
  },
  {
   "cell_type": "code",
   "execution_count": 19,
   "id": "63cd2785",
   "metadata": {
    "scrolled": true
   },
   "outputs": [
    {
     "name": "stderr",
     "output_type": "stream",
     "text": [
      "100%|████████████████████████████████████████████████████████████████████| 5/5 [00:02<00:00,  1.70it/s]\n",
      "100%|████████████████████████████████████████████████████████████████████| 5/5 [00:05<00:00,  1.02s/it]\n",
      "100%|████████████████████████████████████████████████████████████████████| 5/5 [00:04<00:00,  1.10it/s]\n",
      "100%|████████████████████████████████████████████████████████████████████| 5/5 [00:02<00:00,  2.30it/s]\n",
      "100%|████████████████████████████████████████████████████████████████████| 5/5 [00:10<00:00,  2.06s/it]\n"
     ]
    }
   ],
   "source": [
    "splits = {}\n",
    "\n",
    "for j, adata_donor in enumerate(adatas_per_donor):\n",
    "    splits[f'donor_{j+1}' if j < 4 else 'full'] = {}\n",
    "    adata_donor.obs['group_col'] = [seq[1:-1] for seq in adata_donor.obs['IR_VDJ_1_junction_aa']]\n",
    "    for i in tqdm(range(0, 5)):\n",
    "        random_seed = i\n",
    "        adata_tmp = adata_donor.copy()\n",
    "        train_val, test = group_shuffle_split(adata_tmp, group_col='group_col', val_split=0.20, random_seed=random_seed)\n",
    "        train, val = group_shuffle_split(train_val, group_col='group_col', val_split=0.25, random_seed=random_seed)\n",
    "        \n",
    "        adata_tmp.obs['set'] = 'train'\n",
    "        adata_tmp.obs.loc[val.obs.index, 'set'] = 'val'\n",
    "        adata_tmp.obs.loc[test.obs.index, 'set'] = 'test'\n",
    "        \n",
    "        adata_tmp = adata_tmp[adata_tmp.obs['set'].isin(['train', 'test'])]\n",
    "        splits[f'donor_{j+1}' if j < 4 else 'full'][f'split_{i}'] = adata_tmp.copy()"
   ]
  },
  {
   "cell_type": "markdown",
   "id": "6d1b42d4",
   "metadata": {},
   "source": [
    "Write the TCR sequences to seperate csv file for each donor:"
   ]
  },
  {
   "cell_type": "code",
   "execution_count": 20,
   "id": "e18a58eb",
   "metadata": {},
   "outputs": [
    {
     "name": "stderr",
     "output_type": "stream",
     "text": [
      "  0%|                                                                            | 0/5 [00:00<?, ?it/s]/tmp/ipykernel_100879/3417783692.py:8: SettingWithCopyWarning: \n",
      "A value is trying to be set on a copy of a slice from a DataFrame.\n",
      "Try using .loc[row_indexer,col_indexer] = value instead\n",
      "\n",
      "See the caveats in the documentation: https://pandas.pydata.org/pandas-docs/stable/user_guide/indexing.html#returning-a-view-versus-a-copy\n",
      "  df_tcr['cdr3'] = [seq[1:-1] for seq in df_tcr['IR_VDJ_1_junction_aa']]\n",
      "100%|████████████████████████████████████████████████████████████████████| 5/5 [00:00<00:00,  9.13it/s]\n",
      "100%|████████████████████████████████████████████████████████████████████| 5/5 [00:00<00:00,  5.94it/s]\n",
      "100%|████████████████████████████████████████████████████████████████████| 5/5 [00:00<00:00,  8.26it/s]\n",
      "100%|████████████████████████████████████████████████████████████████████| 5/5 [00:00<00:00,  7.80it/s]\n",
      "100%|████████████████████████████████████████████████████████████████████| 5/5 [00:01<00:00,  4.72it/s]\n"
     ]
    }
   ],
   "source": [
    "for donor, ad_dict in splits.items():\n",
    "    for split, adata in tqdm(ad_dict.items()):\n",
    "        path_base = f'../mvTCR/data/tessa/10x/{donor}/'\n",
    "        if not os.path.exists(path_base):\n",
    "            os.mkdir(path_base)\n",
    "\n",
    "        df_tcr = adata.obs[['IR_VDJ_1_junction_aa', 'binding_name', 'set']]\n",
    "        df_tcr['cdr3'] = [seq[1:-1] for seq in df_tcr['IR_VDJ_1_junction_aa']]\n",
    "\n",
    "        df_tcr = df_tcr[['cdr3', 'binding_name', 'set']]\n",
    "        df_tcr.index.name = 'contig_id'\n",
    "\n",
    "        df_tcr_train = df_tcr[df_tcr['set']=='train']\n",
    "        df_tcr_test = df_tcr[df_tcr['set']=='test']\n",
    "\n",
    "        df_tcr_train.to_csv(path_base+f'{split}_tcrs_atlas.csv')\n",
    "        df_tcr_test.to_csv(path_base+f'{split}_tcrs_query.csv')"
   ]
  },
  {
   "cell_type": "markdown",
   "id": "9f4dca2c",
   "metadata": {},
   "source": [
    "Write the scRNA matrix to seperate csv file for each donor:"
   ]
  },
  {
   "cell_type": "code",
   "execution_count": 21,
   "id": "682e49c3",
   "metadata": {},
   "outputs": [
    {
     "name": "stderr",
     "output_type": "stream",
     "text": [
      "100%|████████████████████████████████████████████████████████████████████| 5/5 [01:14<00:00, 14.85s/it]\n",
      "100%|████████████████████████████████████████████████████████████████████| 5/5 [04:25<00:00, 53.02s/it]\n",
      "100%|████████████████████████████████████████████████████████████████████| 5/5 [03:00<00:00, 36.04s/it]\n",
      "100%|████████████████████████████████████████████████████████████████████| 5/5 [00:30<00:00,  6.14s/it]\n",
      "100%|███████████████████████████████████████████████████████████████████| 5/5 [16:42<00:00, 200.42s/it]\n"
     ]
    }
   ],
   "source": [
    "for donor, ad_dict in splits.items():\n",
    "    for split, adata in tqdm(ad_dict.items()):\n",
    "        path_base = f'../mvTCR/data/tessa/10x/{donor}/'\n",
    "        count_mat = adata.X.A\n",
    "        df_counts = pd.DataFrame(count_mat)\n",
    "\n",
    "        df_counts.index = adata.obs.index\n",
    "        df_counts.index.name = ''\n",
    "        df_counts.columns = adata.var.index\n",
    "\n",
    "        df_counts_train = df_counts[adata.obs['set']=='train']\n",
    "        df_counts_test = df_counts[adata.obs['set']=='test']\n",
    "\n",
    "\n",
    "        df_counts_train = df_counts_train.transpose()\n",
    "        df_counts_test = df_counts_test.transpose()\n",
    "\n",
    "        df_counts_train.to_csv(path_base+f'{split}_scRNA_atlas.csv')\n",
    "        df_counts_test.to_csv(path_base+f'{split}_scRNA_query.csv')"
   ]
  },
  {
   "cell_type": "code",
   "execution_count": 22,
   "id": "fcf63dc5",
   "metadata": {},
   "outputs": [],
   "source": [
    "del splits"
   ]
  },
  {
   "cell_type": "markdown",
   "id": "f3dd6b5a",
   "metadata": {},
   "source": [
    "## Transform the Covid Dataset"
   ]
  },
  {
   "cell_type": "code",
   "execution_count": 23,
   "id": "73a36c4f",
   "metadata": {},
   "outputs": [],
   "source": [
    "def extract_reactivity(value):\n",
    "    if 'un-reactive' in value:\n",
    "        return 'un-reactive'\n",
    "    if 'CD8' in value:\n",
    "        return 'CD8 reactive'\n",
    "    if 'CD4' in value:\n",
    "        return 'CD4 reactive'"
   ]
  },
  {
   "cell_type": "code",
   "execution_count": 24,
   "id": "fbbed8f2",
   "metadata": {},
   "outputs": [],
   "source": [
    "path_covid_adata = '../mvTCR/data/Covid/04_covid_highly_var_5000.h5ad'\n",
    "adata = sc.read_h5ad(path_covid_adata)\n",
    "adata.obs['reactivity'] = [extract_reactivity(x) for x in adata.obs['reactive_combined']]"
   ]
  },
  {
   "cell_type": "code",
   "execution_count": 25,
   "id": "30f3f82f",
   "metadata": {},
   "outputs": [
    {
     "name": "stderr",
     "output_type": "stream",
     "text": [
      "100%|████████████████████████████████████████████████████████████████████| 5/5 [00:03<00:00,  1.32it/s]\n"
     ]
    }
   ],
   "source": [
    "splits_covid = {}\n",
    "\n",
    "for i in tqdm(range(0, 5)):\n",
    "    random_seed = i\n",
    "    adata_tmp = adata.copy()\n",
    "    sub, non_sub = group_shuffle_split(adata_tmp, group_col='TRB_1_cdr3', val_split=0.2, random_seed=random_seed)\n",
    "    train, val = group_shuffle_split(sub, group_col='TRB_1_cdr3', val_split=0.20, random_seed=random_seed)\n",
    "    adata_tmp.obs['set'] = 'train'\n",
    "    adata_tmp.obs.loc[non_sub.obs.index, 'set'] = '-'\n",
    "    adata_tmp.obs.loc[val.obs.index, 'set'] = 'val'\n",
    "    adata_tmp = adata_tmp[adata_tmp.obs['set'].isin(['train', 'val'])]\n",
    "    splits_covid[f'split_{i}'] = adata_tmp.copy()"
   ]
  },
  {
   "cell_type": "code",
   "execution_count": 26,
   "id": "38e98c85",
   "metadata": {},
   "outputs": [
    {
     "name": "stderr",
     "output_type": "stream",
     "text": [
      "  0%|                                                                            | 0/5 [00:00<?, ?it/s]/tmp/ipykernel_100879/609113567.py:7: SettingWithCopyWarning: \n",
      "A value is trying to be set on a copy of a slice from a DataFrame.\n",
      "Try using .loc[row_indexer,col_indexer] = value instead\n",
      "\n",
      "See the caveats in the documentation: https://pandas.pydata.org/pandas-docs/stable/user_guide/indexing.html#returning-a-view-versus-a-copy\n",
      "  df_tcr['cdr3'] = [seq[1:-1] for seq in df_tcr['TRB_1_cdr3']]\n",
      "100%|████████████████████████████████████████████████████████████████████| 5/5 [00:00<00:00, 15.80it/s]\n"
     ]
    }
   ],
   "source": [
    "path_base = f'../mvTCR/data/tessa/covid/'\n",
    "if not os.path.exists(path_base):\n",
    "    os.mkdir(path_base)\n",
    "\n",
    "for split, adata in tqdm(splits_covid.items()):\n",
    "    df_tcr = adata.obs[['TRB_1_cdr3', 'T_cells', 'reactivity' , 'set']]\n",
    "    df_tcr['cdr3'] = [seq[1:-1] for seq in df_tcr['TRB_1_cdr3']]\n",
    "\n",
    "    df_tcr = df_tcr[['cdr3', 'T_cells', 'reactivity', 'set']]\n",
    "    df_tcr.index.name = 'contig_id'\n",
    "\n",
    "    df_tcr.to_csv(path_base+f'{split}_tcrs_atlas.csv')"
   ]
  },
  {
   "cell_type": "code",
   "execution_count": 27,
   "id": "76bccb7e",
   "metadata": {},
   "outputs": [
    {
     "name": "stderr",
     "output_type": "stream",
     "text": [
      "100%|████████████████████████████████████████████████████████████████████| 5/5 [00:54<00:00, 10.84s/it]\n"
     ]
    }
   ],
   "source": [
    "path_base = f'../mvTCR/data/tessa/covid/'\n",
    "\n",
    "for split, adata in tqdm(splits_covid.items()):\n",
    "    count_mat = adata.X.A\n",
    "    df_counts = pd.DataFrame(count_mat)\n",
    "\n",
    "    df_counts.index = adata.obs.index\n",
    "    df_counts.index.name = ''\n",
    "    df_counts.columns = adata.var.index\n",
    "\n",
    "    df_counts = df_counts.transpose()\n",
    "    df_counts.to_csv(path_base+f'{split}_scRNA_atlas.csv')"
   ]
  },
  {
   "cell_type": "code",
   "execution_count": 28,
   "id": "8fc29a58",
   "metadata": {},
   "outputs": [],
   "source": [
    "del splits_covid"
   ]
  },
  {
   "cell_type": "code",
   "execution_count": null,
   "id": "4881a5c5",
   "metadata": {},
   "outputs": [],
   "source": []
  },
  {
   "cell_type": "code",
   "execution_count": null,
   "id": "0e3c0201",
   "metadata": {},
   "outputs": [],
   "source": []
  },
  {
   "cell_type": "code",
   "execution_count": null,
   "id": "58ad19fd",
   "metadata": {},
   "outputs": [],
   "source": []
  },
  {
   "cell_type": "code",
   "execution_count": null,
   "id": "d961f02b",
   "metadata": {},
   "outputs": [],
   "source": []
  },
  {
   "cell_type": "code",
   "execution_count": null,
   "id": "dfff0b9e",
   "metadata": {},
   "outputs": [],
   "source": []
  }
 ],
 "metadata": {
  "kernelspec": {
   "display_name": "Python [conda env:mvtcr_prepro]",
   "language": "python",
   "name": "conda-env-mvtcr_prepro-py"
  },
  "language_info": {
   "codemirror_mode": {
    "name": "ipython",
    "version": 3
   },
   "file_extension": ".py",
   "mimetype": "text/x-python",
   "name": "python",
   "nbconvert_exporter": "python",
   "pygments_lexer": "ipython3",
   "version": "3.8.8"
  }
 },
 "nbformat": 4,
 "nbformat_minor": 5
}
