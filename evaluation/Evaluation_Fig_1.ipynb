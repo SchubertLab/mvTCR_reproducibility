{
 "cells": [
  {
   "cell_type": "code",
   "execution_count": 20,
   "id": "0b3a051b",
   "metadata": {},
   "outputs": [],
   "source": [
    "import pandas as pd\n",
    "from tqdm import tqdm"
   ]
  },
  {
   "cell_type": "code",
   "execution_count": 21,
   "id": "557b2efa",
   "metadata": {},
   "outputs": [],
   "source": [
    "import sys\n",
    "sys.path.append('../mvTCR/')\n",
    "import tcr_embedding.utils_training as utils\n",
    "import config.constants_10x as const\n",
    "\n",
    "from tcr_embedding.utils_preprocessing import stratified_group_shuffle_split, group_shuffle_split\n",
    "from tcr_embedding.evaluation.Imputation import run_imputation_evaluation\n",
    "from tcr_embedding.evaluation.Clustering import run_clustering_evaluation\n",
    "from tcr_embedding.evaluation.kNN import run_knn_within_set_evaluation\n",
    "from tcr_embedding.evaluation.WrapperFunctions import get_model_prediction_function"
   ]
  },
  {
   "cell_type": "code",
   "execution_count": 22,
   "id": "af82f18e",
   "metadata": {},
   "outputs": [],
   "source": [
    "def load_model(adata, dataset, split, model, donor=''):\n",
    "    path_model = f'saved_models/journal_2/10x/splits/{model}/10x_donor_{donor}_split_{split}_{model}'\n",
    "    path_model += '.pt'\n",
    "    model = utils.load_model(adata, path_model)\n",
    "    return model\n",
    "    "
   ]
  },
  {
   "cell_type": "code",
   "execution_count": 23,
   "id": "b5aa8773",
   "metadata": {},
   "outputs": [],
   "source": [
    "from sklearn.preprocessing import OneHotEncoder\n",
    "def load_10x_data(donor, split):\n",
    "    adata = utils.load_data('10x')\n",
    "    if str(donor) != 'None':\n",
    "        adata = adata[adata.obs['donor'] == f'donor_{donor}']\n",
    "    else:\n",
    "        enc = OneHotEncoder(sparse=False)\n",
    "        enc.fit(adata.obs['donor'].to_numpy().reshape(-1, 1))\n",
    "        adata.obsm['donor'] = enc.transform(adata.obs['donor'].to_numpy().reshape(-1, 1))\n",
    "    adata = adata[adata.obs['binding_name'].isin(const.HIGH_COUNT_ANTIGENS)]\n",
    "    if split != 'full':\n",
    "        random_seed = split\n",
    "\n",
    "        train_val, test = group_shuffle_split(adata, group_col='clonotype', val_split=0.20, random_seed=random_seed)\n",
    "        train, val = group_shuffle_split(train_val, group_col='clonotype', val_split=0.25, random_seed=random_seed)\n",
    "\n",
    "        adata.obs['set'] = 'train'\n",
    "        adata.obs.loc[val.obs.index, 'set'] = 'val'\n",
    "        adata.obs.loc[test.obs.index, 'set'] = 'test'\n",
    "        adata = adata[adata.obs['set'].isin(['train', 'val', 'test'])]\n",
    "\n",
    "    return adata"
   ]
  },
  {
   "cell_type": "code",
   "execution_count": 24,
   "id": "411acd99",
   "metadata": {},
   "outputs": [],
   "source": [
    "def load_covid_data(split):\n",
    "    adata = utils.load_data('covid')\n",
    "    random_seed = split\n",
    "    sub, non_sub = group_shuffle_split(adata, group_col='clonotype', val_split=0.2, random_seed=random_seed)\n",
    "    train, val = group_shuffle_split(sub, group_col='clonotype', val_split=0.20, random_seed=random_seed)\n",
    "    \n",
    "    adata.obs['set'] = 'train'\n",
    "    adata.obs.loc[non_sub.obs.index, 'set'] = '-'\n",
    "    adata.obs.loc[val.obs.index, 'set'] = 'val'\n",
    "    adata = adata[adata.obs['set'].isin(['train', 'val'])]\n",
    "    return adata"
   ]
  },
  {
   "cell_type": "code",
   "execution_count": 6,
   "id": "9cc41eb4",
   "metadata": {},
   "outputs": [
    {
     "name": "stdout",
     "output_type": "stream",
     "text": [
      "Donor 1:\n",
      "  Split 0: 5599\n",
      "  Split 1: 5164\n",
      "  Split 2: 5756\n",
      "  Split 3: 6447\n",
      "  Split 4: 6425\n",
      "Donor 2:\n",
      "  Split 0: 18428\n",
      "  Split 1: 17686\n",
      "  Split 2: 19046\n",
      "  Split 3: 17903\n",
      "  Split 4: 18259\n",
      "Donor 3:\n",
      "  Split 0: 12793\n",
      "  Split 1: 12012\n",
      "  Split 2: 13428\n",
      "  Split 3: 12235\n",
      "  Split 4: 12700\n",
      "Donor 4:\n",
      "  Split 0: 3116\n",
      "  Split 1: 3233\n",
      "  Split 2: 3165\n",
      "  Split 3: 3233\n",
      "  Split 4: 3232\n",
      "Donor None:\n",
      "  Split 0: 37323\n",
      "  Split 1: 37444\n",
      "  Split 2: 36772\n",
      "  Split 3: 37352\n",
      "  Split 4: 38469\n"
     ]
    }
   ],
   "source": [
    "import numpy as np\n",
    "for donor in list(range(1, 5)) + ['None']:\n",
    "    print(f'Donor {donor}:')\n",
    "    for split in range(5):\n",
    "        data_tmp = load_10x_data(donor, split)\n",
    "        n_train = np.sum(data_tmp.obs['set'].values=='train')\n",
    "        print(f'  Split {split}: {n_train}')"
   ]
  },
  {
   "cell_type": "code",
   "execution_count": 25,
   "id": "8c26d71b",
   "metadata": {
    "scrolled": true
   },
   "outputs": [
    {
     "name": "stderr",
     "output_type": "stream",
     "text": [
      "100%|███████████████████████████████████████████████████████████████████████████████████| 5/5 [54:05<00:00, 649.16s/it]\n",
      "100%|████████████████████████████████████████████████████████████████████████████████████| 5/5 [05:31<00:00, 66.39s/it]\n",
      "100%|███████████████████████████████████████████████████████████████████████████████████| 5/5 [18:49<00:00, 225.88s/it]\n",
      "100%|███████████████████████████████████████████████████████████████████████████████████| 5/5 [10:53<00:00, 130.66s/it]\n",
      "100%|████████████████████████████████████████████████████████████████████████████████████| 5/5 [02:59<00:00, 35.90s/it]\n"
     ]
    }
   ],
   "source": [
    "dataset = '10x'\n",
    "donor = 1\n",
    "metadata = ['binding_name', 'clonotype', 'donor']\n",
    "\n",
    "model_names = []\n",
    "splits = []\n",
    "metrics = []\n",
    "scores = []\n",
    "donors = []\n",
    "for donor in ['None'] + list(range(1, 5)):\n",
    "    for split in tqdm(range(0, 5)):\n",
    "        data = load_10x_data(donor, split)\n",
    "        for model_name in ['concat', 'moe', 'poe', 'tcr', 'rna']:\n",
    "            model = load_model(data, dataset, split, model_name, donor)\n",
    "            test_embedding_func = get_model_prediction_function(model)\n",
    "            for source in ['test']:  #, 'val']:\n",
    "                summary = run_imputation_evaluation(data, test_embedding_func, query_source=source,\n",
    "                                            label_pred='binding_name')\n",
    "                result = summary['knn']['weighted avg']['f1-score']\n",
    "\n",
    "                model_names.append(model_name)\n",
    "                splits.append(split)\n",
    "                metrics.append(f'Prediction {source}')\n",
    "                scores.append(result)\n",
    "                donors.append(donor)\n",
    "\n",
    "            best_nmi = -99\n",
    "            for resolution in [0.01, 0.1, 1.0]:\n",
    "                cluster_result = run_clustering_evaluation(data, test_embedding_func, 'train', name_label='binding_name', \n",
    "                                                   cluster_params={'resolution': resolution, 'num_neighbors': 5})\n",
    "                best_nmi = max(cluster_result['NMI'], best_nmi)\n",
    "            model_names.append(model_name)\n",
    "            splits.append(split)\n",
    "            metrics.append('NMI')\n",
    "            scores.append(best_nmi)  \n",
    "            donors.append(donor)\n",
    "\n",
    "results_10x = {\n",
    "    'model': model_names,\n",
    "    'split': splits,\n",
    "    'metric': metrics,\n",
    "    'score': scores,\n",
    "    'donor': donors,\n",
    "    'dataset': [dataset] * len(splits)\n",
    "}\n",
    "results_10x = pd.DataFrame(results_10x)\n",
    "results_10x.to_csv(f'../results/performance_10x.csv')"
   ]
  },
  {
   "cell_type": "code",
   "execution_count": 26,
   "id": "2607abf1",
   "metadata": {},
   "outputs": [
    {
     "data": {
      "text/plain": [
       "donor  metric           model \n",
       "1      NMI              concat    0.562815\n",
       "                        moe       0.583374\n",
       "                        poe       0.535455\n",
       "                        rna       0.474264\n",
       "                        tcr       0.541161\n",
       "       Prediction test  concat    0.723679\n",
       "                        moe       0.817388\n",
       "                        poe       0.748436\n",
       "                        rna       0.667646\n",
       "                        tcr       0.734800\n",
       "2      NMI              concat    0.389554\n",
       "                        moe       0.404465\n",
       "                        poe       0.368788\n",
       "                        rna       0.364998\n",
       "                        tcr       0.328578\n",
       "       Prediction test  concat    0.809158\n",
       "                        moe       0.836326\n",
       "                        poe       0.863084\n",
       "                        rna       0.783740\n",
       "                        tcr       0.835290\n",
       "3      NMI              concat    0.005413\n",
       "                        moe       0.004470\n",
       "                        poe       0.005253\n",
       "                        rna       0.005047\n",
       "                        tcr       0.009891\n",
       "       Prediction test  concat    0.895150\n",
       "                        moe       0.894566\n",
       "                        poe       0.895199\n",
       "                        rna       0.894511\n",
       "                        tcr       0.895568\n",
       "4      NMI              concat    0.614894\n",
       "                        moe       0.614780\n",
       "                        poe       0.538020\n",
       "                        rna       0.230747\n",
       "                        tcr       0.603967\n",
       "       Prediction test  concat    0.769114\n",
       "                        moe       0.779916\n",
       "                        poe       0.768854\n",
       "                        rna       0.567175\n",
       "                        tcr       0.780895\n",
       "None   NMI              concat    0.470053\n",
       "                        moe       0.499128\n",
       "                        poe       0.441286\n",
       "                        rna       0.408556\n",
       "                        tcr       0.410278\n",
       "       Prediction test  concat    0.819192\n",
       "                        moe       0.793843\n",
       "                        poe       0.810027\n",
       "                        rna       0.695991\n",
       "                        tcr       0.674191\n",
       "Name: score, dtype: float64"
      ]
     },
     "execution_count": 26,
     "metadata": {},
     "output_type": "execute_result"
    }
   ],
   "source": [
    "results_10x.groupby(['donor', 'metric', 'model'])['score'].mean()"
   ]
  },
  {
   "cell_type": "code",
   "execution_count": 28,
   "id": "b8dff8da",
   "metadata": {},
   "outputs": [
    {
     "data": {
      "image/png": "[encoded data removed]",
      "text/plain": [
       "<Figure size 432x288 with 1 Axes>"
      ]
     },
     "metadata": {
      "needs_background": "light"
     },
     "output_type": "display_data"
    },
    {
     "data": {
      "image/png": "[encoded data removed]",
      "text/plain": [
       "<Figure size 432x288 with 1 Axes>"
      ]
     },
     "metadata": {
      "needs_background": "light"
     },
     "output_type": "display_data"
    }
   ],
   "source": [
    "import seaborn as sb\n",
    "import matplotlib.pyplot as plt\n",
    "for met in ['NMI', 'Prediction test']:\n",
    "    res_tmp = results_10x[results_10x['metric']==met]\n",
    "    res_tmp = res_tmp[res_tmp['donor'].isin([3, 4, 'None'])]\n",
    "    sb.barplot(data=res_tmp, x='donor', y='score', hue='model')\n",
    "    plt.show()"
   ]
  },
  {
   "cell_type": "code",
   "execution_count": 29,
   "id": "b498dc9f",
   "metadata": {},
   "outputs": [
    {
     "data": {
      "text/html": [
       "<div>\n",
       "<style scoped>\n",
       "    .dataframe tbody tr th:only-of-type {\n",
       "        vertical-align: middle;\n",
       "    }\n",
       "\n",
       "    .dataframe tbody tr th {\n",
       "        vertical-align: top;\n",
       "    }\n",
       "\n",
       "    .dataframe thead th {\n",
       "        text-align: right;\n",
       "    }\n",
       "</style>\n",
       "<table border=\"1\" class=\"dataframe\">\n",
       "  <thead>\n",
       "    <tr style=\"text-align: right;\">\n",
       "      <th></th>\n",
       "      <th>model</th>\n",
       "      <th>split</th>\n",
       "      <th>metric</th>\n",
       "      <th>score</th>\n",
       "      <th>donor</th>\n",
       "      <th>dataset</th>\n",
       "    </tr>\n",
       "  </thead>\n",
       "  <tbody>\n",
       "    <tr>\n",
       "      <th>0</th>\n",
       "      <td>concat</td>\n",
       "      <td>0</td>\n",
       "      <td>Prediction test</td>\n",
       "      <td>0.867726</td>\n",
       "      <td>None</td>\n",
       "      <td>10x</td>\n",
       "    </tr>\n",
       "    <tr>\n",
       "      <th>1</th>\n",
       "      <td>concat</td>\n",
       "      <td>0</td>\n",
       "      <td>NMI</td>\n",
       "      <td>0.476483</td>\n",
       "      <td>None</td>\n",
       "      <td>10x</td>\n",
       "    </tr>\n",
       "    <tr>\n",
       "      <th>2</th>\n",
       "      <td>moe</td>\n",
       "      <td>0</td>\n",
       "      <td>Prediction test</td>\n",
       "      <td>0.845823</td>\n",
       "      <td>None</td>\n",
       "      <td>10x</td>\n",
       "    </tr>\n",
       "    <tr>\n",
       "      <th>3</th>\n",
       "      <td>moe</td>\n",
       "      <td>0</td>\n",
       "      <td>NMI</td>\n",
       "      <td>0.528413</td>\n",
       "      <td>None</td>\n",
       "      <td>10x</td>\n",
       "    </tr>\n",
       "    <tr>\n",
       "      <th>4</th>\n",
       "      <td>poe</td>\n",
       "      <td>0</td>\n",
       "      <td>Prediction test</td>\n",
       "      <td>0.835327</td>\n",
       "      <td>None</td>\n",
       "      <td>10x</td>\n",
       "    </tr>\n",
       "    <tr>\n",
       "      <th>...</th>\n",
       "      <td>...</td>\n",
       "      <td>...</td>\n",
       "      <td>...</td>\n",
       "      <td>...</td>\n",
       "      <td>...</td>\n",
       "      <td>...</td>\n",
       "    </tr>\n",
       "    <tr>\n",
       "      <th>245</th>\n",
       "      <td>poe</td>\n",
       "      <td>4</td>\n",
       "      <td>NMI</td>\n",
       "      <td>0.475811</td>\n",
       "      <td>4</td>\n",
       "      <td>10x</td>\n",
       "    </tr>\n",
       "    <tr>\n",
       "      <th>246</th>\n",
       "      <td>tcr</td>\n",
       "      <td>4</td>\n",
       "      <td>Prediction test</td>\n",
       "      <td>0.754774</td>\n",
       "      <td>4</td>\n",
       "      <td>10x</td>\n",
       "    </tr>\n",
       "    <tr>\n",
       "      <th>247</th>\n",
       "      <td>tcr</td>\n",
       "      <td>4</td>\n",
       "      <td>NMI</td>\n",
       "      <td>0.575606</td>\n",
       "      <td>4</td>\n",
       "      <td>10x</td>\n",
       "    </tr>\n",
       "    <tr>\n",
       "      <th>248</th>\n",
       "      <td>rna</td>\n",
       "      <td>4</td>\n",
       "      <td>Prediction test</td>\n",
       "      <td>0.455179</td>\n",
       "      <td>4</td>\n",
       "      <td>10x</td>\n",
       "    </tr>\n",
       "    <tr>\n",
       "      <th>249</th>\n",
       "      <td>rna</td>\n",
       "      <td>4</td>\n",
       "      <td>NMI</td>\n",
       "      <td>0.083816</td>\n",
       "      <td>4</td>\n",
       "      <td>10x</td>\n",
       "    </tr>\n",
       "  </tbody>\n",
       "</table>\n",
       "<p>250 rows × 6 columns</p>\n",
       "</div>"
      ],
      "text/plain": [
       "      model  split           metric     score donor dataset\n",
       "0    concat      0  Prediction test  0.867726  None     10x\n",
       "1    concat      0              NMI  0.476483  None     10x\n",
       "2       moe      0  Prediction test  0.845823  None     10x\n",
       "3       moe      0              NMI  0.528413  None     10x\n",
       "4       poe      0  Prediction test  0.835327  None     10x\n",
       "..      ...    ...              ...       ...   ...     ...\n",
       "245     poe      4              NMI  0.475811     4     10x\n",
       "246     tcr      4  Prediction test  0.754774     4     10x\n",
       "247     tcr      4              NMI  0.575606     4     10x\n",
       "248     rna      4  Prediction test  0.455179     4     10x\n",
       "249     rna      4              NMI  0.083816     4     10x\n",
       "\n",
       "[250 rows x 6 columns]"
      ]
     },
     "execution_count": 29,
     "metadata": {},
     "output_type": "execute_result"
    }
   ],
   "source": [
    "results_10x"
   ]
  },
  {
   "cell_type": "code",
   "execution_count": 9,
   "id": "4278c77f",
   "metadata": {},
   "outputs": [
    {
     "ename": "ValueError",
     "evalue": "",
     "output_type": "error",
     "traceback": [
      "\u001b[1;31m---------------------------------------------------------------------------\u001b[0m",
      "\u001b[1;31mValueError\u001b[0m                                Traceback (most recent call last)",
      "\u001b[1;32mC:\\Users\\FELIX~1.DRO\\AppData\\Local\\Temp/ipykernel_15936/4096975414.py\u001b[0m in \u001b[0;36m<module>\u001b[1;34m\u001b[0m\n\u001b[1;32m----> 1\u001b[1;33m \u001b[1;32mraise\u001b[0m \u001b[0mValueError\u001b[0m\u001b[1;33m\u001b[0m\u001b[1;33m\u001b[0m\u001b[0m\n\u001b[0m",
      "\u001b[1;31mValueError\u001b[0m: "
     ]
    }
   ],
   "source": [
    "raise ValueError"
   ]
  },
  {
   "cell_type": "markdown",
   "id": "dce70654",
   "metadata": {},
   "source": [
    "## Minervina Tests"
   ]
  },
  {
   "cell_type": "code",
   "execution_count": 30,
   "id": "08dd36fe",
   "metadata": {},
   "outputs": [],
   "source": [
    "def load_minervina_model(adata, dataset, split, model):\n",
    "    path_model = f'saved_models/journal_2/minervina/splits/{model}/'\n",
    "    path_model += f'minervina_split_{split}_{model}'\n",
    "    path_model += '.pt'\n",
    "    model = utils.load_model(adata, path_model)\n",
    "    return model"
   ]
  },
  {
   "cell_type": "code",
   "execution_count": 31,
   "id": "b5aa8773",
   "metadata": {},
   "outputs": [],
   "source": [
    "from sklearn.preprocessing import OneHotEncoder\n",
    "def load_minervina_data(split):\n",
    "    adata = utils.load_data('minervina/01_annotated_data.h5ad')\n",
    "    # subsample to get statistics\n",
    "    random_seed = split\n",
    "    train_val, test = group_shuffle_split(adata, group_col='clonotype', val_split=0.20, random_seed=random_seed)\n",
    "    train, val = group_shuffle_split(train_val, group_col='clonotype', val_split=0.25, random_seed=random_seed)\n",
    "    \n",
    "    adata.obs['set'] = None\n",
    "    adata.obs.loc[train.obs.index, 'set'] = 'train'\n",
    "    adata.obs.loc[val.obs.index, 'set'] = 'val'\n",
    "    adata.obs.loc[test.obs.index, 'set'] = 'test'\n",
    "    return adata"
   ]
  },
  {
   "cell_type": "code",
   "execution_count": 32,
   "id": "5ea7c924",
   "metadata": {},
   "outputs": [
    {
     "name": "stderr",
     "output_type": "stream",
     "text": [
      "100%|████████████████████████████████████████████████████████████████████████████████████| 5/5 [03:38<00:00, 43.68s/it]\n"
     ]
    }
   ],
   "source": [
    "dataset = 'minervina'\n",
    "metadata = ['epitope']\n",
    "\n",
    "model_names = []\n",
    "splits = []\n",
    "metrics = []\n",
    "scores = []\n",
    "\n",
    "for split in tqdm(range(0, 5)):\n",
    "    data = load_minervina_data(split)\n",
    "    for model_name in ['concat', 'moe', 'poe', 'tcr', 'rna']:\n",
    "        model = load_minervina_model(data, dataset, split, model_name)\n",
    "        test_embedding_func = get_model_prediction_function(model)\n",
    "        for source in ['test']:  #, 'val']:\n",
    "            summary = run_imputation_evaluation(data, test_embedding_func, query_source=source,\n",
    "                                        label_pred='epitope')\n",
    "            result = summary['knn']['weighted avg']['f1-score']\n",
    "\n",
    "            model_names.append(model_name)\n",
    "            splits.append(split)\n",
    "            metrics.append(f'Prediction {source}')\n",
    "            scores.append(result)\n",
    "            donors.append(donor)\n",
    "\n",
    "        best_nmi = -99\n",
    "        for resolution in [0.01, 0.1, 1.0]:\n",
    "            cluster_result = run_clustering_evaluation(data, test_embedding_func, 'train', name_label='epitope', \n",
    "                                               cluster_params={'resolution': resolution, 'num_neighbors': 5})\n",
    "            best_nmi = max(cluster_result['NMI'], best_nmi)\n",
    "        model_names.append(model_name)\n",
    "        splits.append(split)\n",
    "        metrics.append('NMI')\n",
    "        scores.append(best_nmi)  \n",
    "\n",
    "results_min = {\n",
    "    'model': model_names,\n",
    "    'split': splits,\n",
    "    'metric': metrics,\n",
    "    'score': scores,\n",
    "    'donor': ['-'] * len(splits),\n",
    "    'dataset': [dataset] * len(splits)\n",
    "}\n",
    "results_min = pd.DataFrame(results_min)\n",
    "results_min.to_csv(f'../results/performance_minervina.csv')"
   ]
  },
  {
   "cell_type": "code",
   "execution_count": 33,
   "id": "c1c6b662",
   "metadata": {},
   "outputs": [
    {
     "data": {
      "image/png": "[encoded data removed]",
      "text/plain": [
       "<Figure size 432x288 with 1 Axes>"
      ]
     },
     "metadata": {
      "needs_background": "light"
     },
     "output_type": "display_data"
    },
    {
     "data": {
      "image/png": "[encoded data removed]",
      "text/plain": [
       "<Figure size 432x288 with 1 Axes>"
      ]
     },
     "metadata": {
      "needs_background": "light"
     },
     "output_type": "display_data"
    }
   ],
   "source": [
    "import seaborn as sb\n",
    "import matplotlib.pyplot as plt\n",
    "for met in ['NMI', 'Prediction test']:\n",
    "    res_tmp = results_min[results_min['metric']==met]\n",
    "    sb.barplot(data=res_tmp, x='donor', y='score', hue='model')\n",
    "    plt.show()"
   ]
  },
  {
   "cell_type": "code",
   "execution_count": 34,
   "id": "ec4f2944",
   "metadata": {},
   "outputs": [
    {
     "data": {
      "text/plain": [
       "model   metric         \n",
       "concat  NMI                0.416252\n",
       "        Prediction test    0.775144\n",
       "moe     NMI                0.433374\n",
       "        Prediction test    0.789407\n",
       "poe     NMI                0.385350\n",
       "        Prediction test    0.736544\n",
       "rna     NMI                0.401746\n",
       "        Prediction test    0.770900\n",
       "tcr     NMI                0.352971\n",
       "        Prediction test    0.634417\n",
       "Name: score, dtype: float64"
      ]
     },
     "execution_count": 34,
     "metadata": {},
     "output_type": "execute_result"
    }
   ],
   "source": [
    "results_min.groupby(['model', 'metric'])['score'].mean()"
   ]
  },
  {
   "cell_type": "markdown",
   "id": "11f26c84",
   "metadata": {},
   "source": [
    "## Dataset size tests"
   ]
  },
  {
   "cell_type": "code",
   "execution_count": 7,
   "id": "7c6f25c9",
   "metadata": {},
   "outputs": [],
   "source": [
    "def load_model_size(adata, dataset, split, size, donor=''):\n",
    "    path_model = f'saved_models/journal_2/10x/data_size/10x_donor_{donor}_split_{split}_moe_{size}'\n",
    "    path_model += '.pt'\n",
    "    model = utils.load_model(adata, path_model)\n",
    "    return model"
   ]
  },
  {
   "cell_type": "code",
   "execution_count": 8,
   "id": "edaf8de8",
   "metadata": {},
   "outputs": [],
   "source": [
    "donor_2_size = {\n",
    "    'None': [100, 500, 1000, 2500, 5000, 10000, 15000, 30000],\n",
    "    1: [100, 500, 1000, 2500, 5000],\n",
    "    2: [100, 500, 1000, 2500,], #5000, 10000, 15000],\n",
    "    3: [100, 500, 1000, 2500, 5000, 10000],\n",
    "    4: [100, 500, 1000, 2500],\n",
    "    'Minervina': [100, 500, 1000, 2500, 5000],\n",
    "}"
   ]
  },
  {
   "cell_type": "code",
   "execution_count": 9,
   "id": "414664e9",
   "metadata": {},
   "outputs": [
    {
     "name": "stderr",
     "output_type": "stream",
     "text": [
      "100%|████████████████████████████████████████████████████████████████████████████████████| 5/5 [06:27<00:00, 77.40s/it]\n",
      "100%|███████████████████████████████████████████████████████████████████████████████████| 5/5 [16:06<00:00, 193.32s/it]\n"
     ]
    }
   ],
   "source": [
    "dataset = '10x'\n",
    "metadata = ['binding_name', 'clonotype', 'donor']\n",
    "\n",
    "sizes = []\n",
    "splits = []\n",
    "metrics = []\n",
    "scores = []\n",
    "donors = []\n",
    "for donor in range(1, 3): #['None'] + list(range(1, 5)):\n",
    "    for split in tqdm(range(0, 5)):\n",
    "        data = load_10x_data(donor, split)\n",
    "        for size in donor_2_size[donor]:\n",
    "            model = load_model_size(data, dataset, split, size, donor)\n",
    "            test_embedding_func = get_model_prediction_function(model)\n",
    "            for source in ['test']:  #, 'val']:\n",
    "                summary = run_imputation_evaluation(data, test_embedding_func, query_source=source,\n",
    "                                            label_pred='binding_name')\n",
    "                result = summary['knn']['weighted avg']['f1-score']\n",
    "\n",
    "                sizes.append(size)\n",
    "                splits.append(split)\n",
    "                metrics.append(f'Prediction {source}')\n",
    "                scores.append(result)\n",
    "                donors.append(donor)\n",
    "\n",
    "            best_nmi = -99\n",
    "            for resolution in [0.01, 0.1, 1.0]:\n",
    "                cluster_result = run_clustering_evaluation(data, test_embedding_func, 'train', name_label='binding_name', \n",
    "                                                   cluster_params={'resolution': resolution, 'num_neighbors': 5})\n",
    "                best_nmi = max(cluster_result['NMI'], best_nmi)\n",
    "            sizes.append(size)\n",
    "            splits.append(split)\n",
    "            metrics.append('NMI')\n",
    "            scores.append(best_nmi)  \n",
    "            donors.append(donor)\n",
    "\n",
    "results_10x_size = {\n",
    "    'size': sizes,\n",
    "    'split': splits,\n",
    "    'metric': metrics,\n",
    "    'score': scores,\n",
    "    'donor': donors\n",
    "}\n",
    "results_10x_size = pd.DataFrame(results_10x_size)\n",
    "results_10x_size.to_csv(f'../results/performance_10x_datasize.csv')"
   ]
  },
  {
   "cell_type": "code",
   "execution_count": 10,
   "id": "247f1e35",
   "metadata": {},
   "outputs": [
    {
     "data": {
      "text/plain": [
       "metric           size  donor\n",
       "NMI              100   1        0.565510\n",
       "                       2        0.410771\n",
       "                 500   1        0.561269\n",
       "                       2        0.401203\n",
       "                 1000  1        0.598470\n",
       "                       2        0.414632\n",
       "                 2500  1        0.589256\n",
       "                       2        0.408587\n",
       "                 5000  1        0.512970\n",
       "Prediction test  100   1        0.611137\n",
       "                       2        0.759326\n",
       "                 500   1        0.794525\n",
       "                       2        0.771396\n",
       "                 1000  1        0.751319\n",
       "                       2        0.743540\n",
       "                 2500  1        0.743034\n",
       "                       2        0.822834\n",
       "                 5000  1        0.800417\n",
       "Name: score, dtype: float64"
      ]
     },
     "execution_count": 10,
     "metadata": {},
     "output_type": "execute_result"
    }
   ],
   "source": [
    "results_10x_size.groupby(['metric', 'size', 'donor'])['score'].mean()"
   ]
  },
  {
   "cell_type": "code",
   "execution_count": 11,
   "id": "bbefb467",
   "metadata": {},
   "outputs": [
    {
     "data": {
      "image/png": "[encoded data removed]",
      "text/plain": [
       "<Figure size 432x288 with 1 Axes>"
      ]
     },
     "metadata": {
      "needs_background": "light"
     },
     "output_type": "display_data"
    },
    {
     "data": {
      "image/png": "[encoded data removed]",
      "text/plain": [
       "<Figure size 432x288 with 1 Axes>"
      ]
     },
     "metadata": {
      "needs_background": "light"
     },
     "output_type": "display_data"
    }
   ],
   "source": [
    "import seaborn as sb\n",
    "import matplotlib.pyplot as plt\n",
    "for met in ['NMI', 'Prediction test']:\n",
    "    sb.lineplot(data=results_10x_size[results_10x_size['metric']==met], x='size', y='score', hue='donor')\n",
    "    plt.xscale('log')\n",
    "    plt.show()"
   ]
  },
  {
   "cell_type": "markdown",
   "id": "232d3365",
   "metadata": {},
   "source": [
    "## Write Supplemantary Material S1"
   ]
  },
  {
   "cell_type": "code",
   "execution_count": null,
   "id": "7ee53061",
   "metadata": {},
   "outputs": [],
   "source": [
    "raise ValueError"
   ]
  },
  {
   "cell_type": "code",
   "execution_count": null,
   "id": "ca37b62d",
   "metadata": {},
   "outputs": [],
   "source": [
    "path_out = '../results/supplement/S1_benchmarking.xlsx'\n",
    "results_10x.to_excel(path_out, sheet_name='10x')"
   ]
  }
 ],
 "metadata": {
  "kernelspec": {
   "display_name": "Python [conda env:mvTCR]",
   "language": "python",
   "name": "conda-env-mvTCR-py"
  },
  "language_info": {
   "codemirror_mode": {
    "name": "ipython",
    "version": 3
   },
   "file_extension": ".py",
   "mimetype": "text/x-python",
   "name": "python",
   "nbconvert_exporter": "python",
   "pygments_lexer": "ipython3",
   "version": "3.8.8"
  }
 },
 "nbformat": 4,
 "nbformat_minor": 5
}
