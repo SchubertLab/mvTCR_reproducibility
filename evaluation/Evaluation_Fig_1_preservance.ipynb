{
 "cells": [
  {
   "cell_type": "code",
   "execution_count": 1,
   "id": "0b3a051b",
   "metadata": {},
   "outputs": [],
   "source": [
    "import pandas as pd\n",
    "from tqdm import tqdm"
   ]
  },
  {
   "cell_type": "code",
   "execution_count": 2,
   "id": "557b2efa",
   "metadata": {},
   "outputs": [
    {
     "name": "stderr",
     "output_type": "stream",
     "text": [
      "C:\\Users\\felix.drost\\Anaconda3\\envs\\mvTCR_repro2\\lib\\site-packages\\tqdm\\auto.py:21: TqdmWarning: IProgress not found. Please update jupyter and ipywidgets. See https://ipywidgets.readthedocs.io/en/stable/user_install.html\n",
      "  from .autonotebook import tqdm as notebook_tqdm\n"
     ]
    }
   ],
   "source": [
    "import sys\n",
    "sys.path.append('../mvTCR/')\n",
    "import tcr_embedding.utils_training as utils\n",
    "import config.constants_10x as const\n",
    "\n",
    "from tcr_embedding.utils_preprocessing import stratified_group_shuffle_split, group_shuffle_split\n",
    "from tcr_embedding.evaluation.WrapperFunctions import get_model_prediction_function"
   ]
  },
  {
   "cell_type": "code",
   "execution_count": 3,
   "id": "af82f18e",
   "metadata": {},
   "outputs": [],
   "source": [
    "def load_model(adata, dataset, split, model, donor=''):\n",
    "    if donor != '':\n",
    "        path_model = f'saved_models/journal_2/10x/splits/{model}/10x_donor_{donor}_split_{split}_{model}'\n",
    "    elif dataset=='covid':\n",
    "        path_model = f'saved_models/journal_2/Fischer/splits/{model}/{dataset}_split_{split}_{model}'\n",
    "    else:\n",
    "        path_model = f'saved_models/journal_2/{dataset}/splits/{model}/{dataset}_split_{split}_{model}'\n",
    "    path_model += '.pt'\n",
    "    model = utils.load_model(adata, path_model)\n",
    "    return model\n",
    "    "
   ]
  },
  {
   "cell_type": "code",
   "execution_count": 4,
   "id": "411acd99",
   "metadata": {},
   "outputs": [],
   "source": [
    "def load_data(split, dataset):\n",
    "    adata = utils.load_data(dataset)\n",
    "    random_seed = split\n",
    "    sub, non_sub = group_shuffle_split(adata, group_col='clonotype', val_split=0.2, random_seed=random_seed)\n",
    "    train, val = group_shuffle_split(sub, group_col='clonotype', val_split=0.20, random_seed=random_seed)\n",
    "    \n",
    "    adata.obs['set'] = 'train'\n",
    "    adata.obs.loc[non_sub.obs.index, 'set'] = '-'\n",
    "    adata.obs.loc[val.obs.index, 'set'] = 'val'\n",
    "    adata = adata[adata.obs['set'].isin(['train', 'val'])]\n",
    "    return adata"
   ]
  },
  {
   "cell_type": "code",
   "execution_count": 5,
   "id": "c294c1bd",
   "metadata": {},
   "outputs": [],
   "source": [
    "dataset_2_celltype = {\n",
    "    'haniffa': 'full_clustering',\n",
    "    'covid': 'cell_type',\n",
    "    'borcherding': 'functional.cluster',\n",
    "    '10x': 'celltype'\n",
    "}"
   ]
  },
  {
   "cell_type": "markdown",
   "id": "eebf05fe",
   "metadata": {},
   "source": [
    "## Improved Implementation Cluster Evaluation\n",
    "The clustering evaluation as provided in the mvTCR code does not scale well for this setting (large dataset, on many resolution + several metrices). To avoid duplicate computation, we speed things up a little bit here. Eventhough this could be performed in the main code as well, I decided to do this only here, to keep the codebase stable between evaluation runs.\n",
    "In specifics, this is:\n",
    "- compute the embedding only once\n",
    "- compute the neighborhood on this embedding\n",
    "- only then calculate the clustering for various resolutions\n",
    "- for each resolutions directly evaluate the different labels"
   ]
  },
  {
   "cell_type": "code",
   "execution_count": 6,
   "id": "bb9f216d",
   "metadata": {},
   "outputs": [],
   "source": [
    "from anndata import AnnData\n",
    "import scanpy as sc\n",
    "import tcr_embedding.evaluation.Metrics as Metrics\n",
    "def run_clustering_evaluation(data_full, embedding_function, source_data='val', labels=None,\n",
    "                              resolutions=None):\n",
    "    data_eval = data_full[data_full.obs['set'] == source_data]\n",
    "\n",
    "    embeddings = embedding_function(data_eval)\n",
    "    embeddings = AnnData(embeddings)\n",
    "    for label_col in labels:\n",
    "        embeddings.obs[label_col] = data_eval.obs[label_col].to_numpy()\n",
    "    \n",
    "    sc.pp.neighbors(embeddings, n_neighbors=5, use_rep='X', random_state=0)\n",
    "    \n",
    "    cluster_scores = {col: [] for col in labels}\n",
    "    for res in resolutions:\n",
    "        sc.tl.leiden(embeddings, resolution=res, random_state=0) \n",
    "        \n",
    "        for col_label in labels:\n",
    "            labels_true = embeddings.obs[col_label].to_numpy()\n",
    "            labels_pred = embeddings.obs['leiden'].to_numpy()\n",
    "            \n",
    "            score = Metrics.get_normalized_mutual_information(labels_true, labels_pred)\n",
    "            cluster_scores[col_label].append(score)\n",
    "    cluster_scores = {key: max(values) for key, values in cluster_scores.items()}\n",
    "    return cluster_scores"
   ]
  },
  {
   "cell_type": "markdown",
   "id": "53c2801b",
   "metadata": {},
   "source": [
    "## Preservance of Cell type and Clonotype"
   ]
  },
  {
   "cell_type": "code",
   "execution_count": 7,
   "id": "02979bc2",
   "metadata": {
    "scrolled": false
   },
   "outputs": [
    {
     "name": "stdout",
     "output_type": "stream",
     "text": [
      "- haniffa\n"
     ]
    },
    {
     "name": "stderr",
     "output_type": "stream",
     "text": [
      "100%|███████████████████████████████████████████████████████████████████████████████████| 5/5 [22:50<00:00, 274.06s/it]\n"
     ]
    },
    {
     "name": "stdout",
     "output_type": "stream",
     "text": [
      "- borcherding\n"
     ]
    },
    {
     "name": "stderr",
     "output_type": "stream",
     "text": [
      "100%|████████████████████████████████████████████████████████████████████████████████| 5/5 [6:48:31<00:00, 4902.22s/it]\n"
     ]
    },
    {
     "name": "stdout",
     "output_type": "stream",
     "text": [
      "- covid\n"
     ]
    },
    {
     "name": "stderr",
     "output_type": "stream",
     "text": [
      "100%|████████████████████████████████████████████████████████████████████████████████████| 5/5 [01:09<00:00, 13.83s/it]\n"
     ]
    },
    {
     "data": {
      "text/html": [
       "<div>\n",
       "<style scoped>\n",
       "    .dataframe tbody tr th:only-of-type {\n",
       "        vertical-align: middle;\n",
       "    }\n",
       "\n",
       "    .dataframe tbody tr th {\n",
       "        vertical-align: top;\n",
       "    }\n",
       "\n",
       "    .dataframe thead th {\n",
       "        text-align: right;\n",
       "    }\n",
       "</style>\n",
       "<table border=\"1\" class=\"dataframe\">\n",
       "  <thead>\n",
       "    <tr style=\"text-align: right;\">\n",
       "      <th></th>\n",
       "      <th>model</th>\n",
       "      <th>split</th>\n",
       "      <th>metric</th>\n",
       "      <th>score</th>\n",
       "      <th>dataset</th>\n",
       "    </tr>\n",
       "  </thead>\n",
       "  <tbody>\n",
       "    <tr>\n",
       "      <th>0</th>\n",
       "      <td>moe</td>\n",
       "      <td>0</td>\n",
       "      <td>NMI_cell_type</td>\n",
       "      <td>0.302889</td>\n",
       "      <td>haniffa</td>\n",
       "    </tr>\n",
       "    <tr>\n",
       "      <th>1</th>\n",
       "      <td>moe</td>\n",
       "      <td>0</td>\n",
       "      <td>NMI_clonotype</td>\n",
       "      <td>0.728880</td>\n",
       "      <td>haniffa</td>\n",
       "    </tr>\n",
       "    <tr>\n",
       "      <th>2</th>\n",
       "      <td>tcr</td>\n",
       "      <td>0</td>\n",
       "      <td>NMI_cell_type</td>\n",
       "      <td>0.166110</td>\n",
       "      <td>haniffa</td>\n",
       "    </tr>\n",
       "    <tr>\n",
       "      <th>3</th>\n",
       "      <td>tcr</td>\n",
       "      <td>0</td>\n",
       "      <td>NMI_clonotype</td>\n",
       "      <td>0.783031</td>\n",
       "      <td>haniffa</td>\n",
       "    </tr>\n",
       "    <tr>\n",
       "      <th>4</th>\n",
       "      <td>rna</td>\n",
       "      <td>0</td>\n",
       "      <td>NMI_cell_type</td>\n",
       "      <td>0.427773</td>\n",
       "      <td>haniffa</td>\n",
       "    </tr>\n",
       "    <tr>\n",
       "      <th>...</th>\n",
       "      <td>...</td>\n",
       "      <td>...</td>\n",
       "      <td>...</td>\n",
       "      <td>...</td>\n",
       "      <td>...</td>\n",
       "    </tr>\n",
       "    <tr>\n",
       "      <th>145</th>\n",
       "      <td>rna</td>\n",
       "      <td>4</td>\n",
       "      <td>NMI_clonotype</td>\n",
       "      <td>0.746569</td>\n",
       "      <td>covid</td>\n",
       "    </tr>\n",
       "    <tr>\n",
       "      <th>146</th>\n",
       "      <td>concat</td>\n",
       "      <td>4</td>\n",
       "      <td>NMI_cell_type</td>\n",
       "      <td>0.420390</td>\n",
       "      <td>covid</td>\n",
       "    </tr>\n",
       "    <tr>\n",
       "      <th>147</th>\n",
       "      <td>concat</td>\n",
       "      <td>4</td>\n",
       "      <td>NMI_clonotype</td>\n",
       "      <td>0.816002</td>\n",
       "      <td>covid</td>\n",
       "    </tr>\n",
       "    <tr>\n",
       "      <th>148</th>\n",
       "      <td>poe</td>\n",
       "      <td>4</td>\n",
       "      <td>NMI_cell_type</td>\n",
       "      <td>0.364541</td>\n",
       "      <td>covid</td>\n",
       "    </tr>\n",
       "    <tr>\n",
       "      <th>149</th>\n",
       "      <td>poe</td>\n",
       "      <td>4</td>\n",
       "      <td>NMI_clonotype</td>\n",
       "      <td>0.812815</td>\n",
       "      <td>covid</td>\n",
       "    </tr>\n",
       "  </tbody>\n",
       "</table>\n",
       "<p>150 rows × 5 columns</p>\n",
       "</div>"
      ],
      "text/plain": [
       "      model  split         metric     score  dataset\n",
       "0       moe      0  NMI_cell_type  0.302889  haniffa\n",
       "1       moe      0  NMI_clonotype  0.728880  haniffa\n",
       "2       tcr      0  NMI_cell_type  0.166110  haniffa\n",
       "3       tcr      0  NMI_clonotype  0.783031  haniffa\n",
       "4       rna      0  NMI_cell_type  0.427773  haniffa\n",
       "..      ...    ...            ...       ...      ...\n",
       "145     rna      4  NMI_clonotype  0.746569    covid\n",
       "146  concat      4  NMI_cell_type  0.420390    covid\n",
       "147  concat      4  NMI_clonotype  0.816002    covid\n",
       "148     poe      4  NMI_cell_type  0.364541    covid\n",
       "149     poe      4  NMI_clonotype  0.812815    covid\n",
       "\n",
       "[150 rows x 5 columns]"
      ]
     },
     "execution_count": 7,
     "metadata": {},
     "output_type": "execute_result"
    }
   ],
   "source": [
    "model_names = []\n",
    "splits = []\n",
    "metrics = []\n",
    "scores = []\n",
    "datasets = []\n",
    "for dataset in ['haniffa', 'borcherding', 'covid']:\n",
    "    print(f'- {dataset}')\n",
    "    for split in tqdm(range(0, 5)):\n",
    "        data = load_data(split, dataset)\n",
    "        for model_name in ['moe', 'tcr', 'rna', 'concat', 'poe']:\n",
    "            model = load_model(data, dataset, split, model_name)\n",
    "            test_embedding_func = get_model_prediction_function(model)\n",
    "            \n",
    "            cluster_scores = run_clustering_evaluation(data, test_embedding_func, 'train', \n",
    "                                                       labels=[dataset_2_celltype[dataset], 'clonotype'],\n",
    "                                                       resolutions=[0.01, 0.1, 1.0, 10, 25])\n",
    "            model_names += [model_name] * 2\n",
    "            splits += [split] * 2\n",
    "            datasets += [dataset] * 2\n",
    "            metrics += ['NMI_cell_type', 'NMI_clonotype']\n",
    "            scores += [cluster_scores[dataset_2_celltype[dataset]], cluster_scores['clonotype']]\n",
    "\n",
    "results_perservance = {\n",
    "    'model': model_names,\n",
    "    'split': splits,\n",
    "    'metric': metrics,\n",
    "    'score': scores,\n",
    "    'dataset': datasets\n",
    "}\n",
    "results_perservance = pd.DataFrame(results_perservance)\n",
    "results_perservance.to_csv('../results/performance_perservance.csv')\n",
    "results_perservance"
   ]
  },
  {
   "cell_type": "code",
   "execution_count": 8,
   "id": "a07bedb9",
   "metadata": {},
   "outputs": [
    {
     "data": {
      "text/plain": [
       "dataset      model   metric       \n",
       "borcherding  concat  NMI_cell_type    0.139368\n",
       "                     NMI_clonotype    0.657497\n",
       "             moe     NMI_cell_type    0.119940\n",
       "                     NMI_clonotype    0.710212\n",
       "             poe     NMI_cell_type    0.131371\n",
       "                     NMI_clonotype    0.689875\n",
       "             rna     NMI_cell_type    0.146637\n",
       "                     NMI_clonotype    0.629866\n",
       "             tcr     NMI_cell_type    0.077469\n",
       "                     NMI_clonotype    0.801840\n",
       "covid        concat  NMI_cell_type    0.393454\n",
       "                     NMI_clonotype    0.815538\n",
       "             moe     NMI_cell_type    0.410863\n",
       "                     NMI_clonotype    0.812570\n",
       "             poe     NMI_cell_type    0.366861\n",
       "                     NMI_clonotype    0.807563\n",
       "             rna     NMI_cell_type    0.461384\n",
       "                     NMI_clonotype    0.749611\n",
       "             tcr     NMI_cell_type    0.334614\n",
       "                     NMI_clonotype    0.782649\n",
       "haniffa      concat  NMI_cell_type    0.373508\n",
       "                     NMI_clonotype    0.760653\n",
       "             moe     NMI_cell_type    0.345145\n",
       "                     NMI_clonotype    0.745572\n",
       "             poe     NMI_cell_type    0.352741\n",
       "                     NMI_clonotype    0.776415\n",
       "             rna     NMI_cell_type    0.436572\n",
       "                     NMI_clonotype    0.713196\n",
       "             tcr     NMI_cell_type    0.140279\n",
       "                     NMI_clonotype    0.751458\n",
       "Name: score, dtype: float64"
      ]
     },
     "execution_count": 8,
     "metadata": {},
     "output_type": "execute_result"
    }
   ],
   "source": [
    "results_perservance.groupby(['dataset', 'model', 'metric'])['score'].mean()"
   ]
  },
  {
   "cell_type": "markdown",
   "id": "232d3365",
   "metadata": {},
   "source": [
    "## Write Supplemantary Material S1"
   ]
  },
  {
   "cell_type": "code",
   "execution_count": 9,
   "id": "ca37b62d",
   "metadata": {},
   "outputs": [],
   "source": [
    "path_out = '../results/supplement/S1_benchmarking.xlsx'\n",
    "with pd.ExcelWriter(path_out, mode='a') as writer:  \n",
    "    results_perservance.to_excel(writer, sheet_name='CellCharacteristics')"
   ]
  },
  {
   "cell_type": "code",
   "execution_count": null,
   "id": "5f394995",
   "metadata": {},
   "outputs": [],
   "source": []
  }
 ],
 "metadata": {
  "kernelspec": {
   "display_name": "Python [conda env:mvTCR_repro2]",
   "language": "python",
   "name": "conda-env-mvTCR_repro2-py"
  },
  "language_info": {
   "codemirror_mode": {
    "name": "ipython",
    "version": 3
   },
   "file_extension": ".py",
   "mimetype": "text/x-python",
   "name": "python",
   "nbconvert_exporter": "python",
   "pygments_lexer": "ipython3",
   "version": "3.8.8"
  }
 },
 "nbformat": 4,
 "nbformat_minor": 5
}
