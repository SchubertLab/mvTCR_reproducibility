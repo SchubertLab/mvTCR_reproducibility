{
 "cells": [
  {
   "cell_type": "code",
   "execution_count": 1,
   "metadata": {},
   "outputs": [
    {
     "name": "stderr",
     "output_type": "stream",
     "text": [
      "C:\\Users\\felix.drost\\Anaconda3\\envs\\mvTCR_repro\\lib\\site-packages\\tqdm\\auto.py:22: TqdmWarning: IProgress not found. Please update jupyter and ipywidgets. See https://ipywidgets.readthedocs.io/en/stable/user_install.html\n",
      "  from .autonotebook import tqdm as notebook_tqdm\n"
     ]
    }
   ],
   "source": [
    "%matplotlib inline\n",
    "\n",
    "import warnings\n",
    "warnings.simplefilter(action='ignore', category=FutureWarning)\n",
    "\n",
    "import os \n",
    "import numpy as np\n",
    "import scipy as sci\n",
    "import pandas as pd\n",
    "import seaborn as sb\n",
    "import matplotlib.pyplot as pl\n",
    "\n",
    "import scanpy as sc\n",
    "import scirpy as ir\n",
    "import anndata as ann\n",
    "\n",
    "from scipy.sparse import csr_matrix\n",
    "from matplotlib import rcParams\n",
    "from matplotlib import colors\n",
    "\n",
    "sc.settings.verbosity = 3\n"
   ]
  },
  {
   "cell_type": "code",
   "execution_count": 2,
   "metadata": {},
   "outputs": [],
   "source": [
    "sc.settings.set_figure_params(dpi=70)\n",
    "sc.settings.verbosity = 3\n",
    "sc.settings.n_jobs = 3\n",
    "sc.set_figure_params(vector_friendly=True,color_map='viridis',dpi_save=600,transparent=True)"
   ]
  },
  {
   "cell_type": "markdown",
   "metadata": {},
   "source": [
    "Paths to preprocessed data at different stages."
   ]
  },
  {
   "cell_type": "code",
   "execution_count": 3,
   "metadata": {},
   "outputs": [],
   "source": [
    "path_base = '../mvTCR/data/Minervina'\n",
    "path_out = f'{path_base}/01_annotated_data.h5ad'"
   ]
  },
  {
   "cell_type": "markdown",
   "metadata": {},
   "source": [
    "## Merge Files"
   ]
  },
  {
   "cell_type": "markdown",
   "metadata": {},
   "source": [
    "The data can be downloaded from https://zenodo.org/record/6232103#.YywJzBzP0uU"
   ]
  },
  {
   "cell_type": "code",
   "execution_count": 4,
   "metadata": {
    "scrolled": true
   },
   "outputs": [
    {
     "name": "stderr",
     "output_type": "stream",
     "text": [
      "reading ../mvTCR/data/Minervina/filtered_feature_bc_matrix.h5\n",
      "C:\\Users\\felix.drost\\Anaconda3\\envs\\mvTCR_repro\\lib\\site-packages\\anndata\\_core\\anndata.py:1830: UserWarning: Variable names are not unique. To make them unique, call `.var_names_make_unique`.\n",
      "  utils.warn_names_duplicates(\"var\")\n",
      " (0:00:01)\n"
     ]
    }
   ],
   "source": [
    "# transcriptome data\n",
    "file_name = f'{path_base}/filtered_feature_bc_matrix.h5'\n",
    "adata = sc.read_10x_h5(file_name, gex_only=False)\n",
    "\n",
    "# TCR data\n",
    "path_anno = f'{path_base}/filtered_contig_annotations.csv'\n",
    "anno_tcr = ir.io.read_10x_vdj(path_anno)    \n",
    "ir.pp.merge_with_ir(adata, anno_tcr)\n",
    "\n",
    "adata.var_names_make_unique()"
   ]
  },
  {
   "cell_type": "code",
   "execution_count": 5,
   "metadata": {},
   "outputs": [
    {
     "name": "stdout",
     "output_type": "stream",
     "text": [
      "Total Count: 22959\n",
      "With IR-Info: 18718\n"
     ]
    }
   ],
   "source": [
    "count_irs = sum([1 for x in adata.obs['has_ir'] if x=='True'])\n",
    "print(f'Total Count: {len(adata.obs)}')\n",
    "print(f'With IR-Info: {count_irs}')"
   ]
  },
  {
   "cell_type": "markdown",
   "metadata": {},
   "source": [
    "The authors filtered the data to exclude carrier cells, non T cells, and bad quality cells. We reduce the anndata object to their barcode list after filtering. This file can be found on the authors' github page. https://github.com/pogorely/COVID_vax_CD8"
   ]
  },
  {
   "cell_type": "code",
   "execution_count": 6,
   "metadata": {},
   "outputs": [
    {
     "data": {
      "text/html": [
       "<div>\n",
       "<style scoped>\n",
       "    .dataframe tbody tr th:only-of-type {\n",
       "        vertical-align: middle;\n",
       "    }\n",
       "\n",
       "    .dataframe tbody tr th {\n",
       "        vertical-align: top;\n",
       "    }\n",
       "\n",
       "    .dataframe thead th {\n",
       "        text-align: right;\n",
       "    }\n",
       "</style>\n",
       "<table border=\"1\" class=\"dataframe\">\n",
       "  <thead>\n",
       "    <tr style=\"text-align: right;\">\n",
       "      <th></th>\n",
       "      <th>batch</th>\n",
       "      <th>spike</th>\n",
       "      <th>sample_category</th>\n",
       "      <th>donor</th>\n",
       "      <th>epitope</th>\n",
       "      <th>donor_category</th>\n",
       "    </tr>\n",
       "  </thead>\n",
       "  <tbody>\n",
       "    <tr>\n",
       "      <th>AAACCTGAGATCGGGT-6</th>\n",
       "      <td>batch_6</td>\n",
       "      <td>False</td>\n",
       "      <td>inf_vax</td>\n",
       "      <td>R23</td>\n",
       "      <td>A01_DTD</td>\n",
       "      <td>inf_after_1</td>\n",
       "    </tr>\n",
       "    <tr>\n",
       "      <th>AAACCTGAGCCTCGTG-4</th>\n",
       "      <td>batch_4</td>\n",
       "      <td>False</td>\n",
       "      <td>inf</td>\n",
       "      <td>R7</td>\n",
       "      <td>A01_TTD</td>\n",
       "      <td>post_inf</td>\n",
       "    </tr>\n",
       "    <tr>\n",
       "      <th>AAACCTGAGCTGTCTA-2</th>\n",
       "      <td>batch_2</td>\n",
       "      <td>True</td>\n",
       "      <td>vax</td>\n",
       "      <td>N2</td>\n",
       "      <td>A01_LTD</td>\n",
       "      <td>naive</td>\n",
       "    </tr>\n",
       "    <tr>\n",
       "      <th>AAACCTGAGGAATCGC-4</th>\n",
       "      <td>batch_4</td>\n",
       "      <td>NaN</td>\n",
       "      <td>NaN</td>\n",
       "      <td>NaN</td>\n",
       "      <td>A01_TTD</td>\n",
       "      <td>post_inf</td>\n",
       "    </tr>\n",
       "    <tr>\n",
       "      <th>AAACCTGAGGTGGGTT-4</th>\n",
       "      <td>batch_4</td>\n",
       "      <td>False</td>\n",
       "      <td>inf</td>\n",
       "      <td>R7</td>\n",
       "      <td>A01_TTD</td>\n",
       "      <td>post_inf</td>\n",
       "    </tr>\n",
       "  </tbody>\n",
       "</table>\n",
       "</div>"
      ],
      "text/plain": [
       "                      batch  spike sample_category donor  epitope  \\\n",
       "AAACCTGAGATCGGGT-6  batch_6  False         inf_vax   R23  A01_DTD   \n",
       "AAACCTGAGCCTCGTG-4  batch_4  False             inf    R7  A01_TTD   \n",
       "AAACCTGAGCTGTCTA-2  batch_2   True             vax    N2  A01_LTD   \n",
       "AAACCTGAGGAATCGC-4  batch_4    NaN             NaN   NaN  A01_TTD   \n",
       "AAACCTGAGGTGGGTT-4  batch_4  False             inf    R7  A01_TTD   \n",
       "\n",
       "                   donor_category  \n",
       "AAACCTGAGATCGGGT-6    inf_after_1  \n",
       "AAACCTGAGCCTCGTG-4       post_inf  \n",
       "AAACCTGAGCTGTCTA-2          naive  \n",
       "AAACCTGAGGAATCGC-4       post_inf  \n",
       "AAACCTGAGGTGGGTT-4       post_inf  "
      ]
     },
     "execution_count": 6,
     "metadata": {},
     "output_type": "execute_result"
    }
   ],
   "source": [
    "filtered_barcodes = pd.read_csv(f'{path_base}/cd8_only_dextr_rev_clean.tsv', sep='\\t')\n",
    "filtered_barcodes.index = filtered_barcodes['barcode']\n",
    "filtered_barcodes.index.name = None\n",
    "filtered_barcodes = filtered_barcodes[['batch', 'spike', 'sample_category', 'donor', 'epitope', 'donor_category']]\n",
    "filtered_barcodes.head()"
   ]
  },
  {
   "cell_type": "code",
   "execution_count": 7,
   "metadata": {},
   "outputs": [
    {
     "data": {
      "text/html": [
       "<div>\n",
       "<style scoped>\n",
       "    .dataframe tbody tr th:only-of-type {\n",
       "        vertical-align: middle;\n",
       "    }\n",
       "\n",
       "    .dataframe tbody tr th {\n",
       "        vertical-align: top;\n",
       "    }\n",
       "\n",
       "    .dataframe thead th {\n",
       "        text-align: right;\n",
       "    }\n",
       "</style>\n",
       "<table border=\"1\" class=\"dataframe\">\n",
       "  <thead>\n",
       "    <tr style=\"text-align: right;\">\n",
       "      <th></th>\n",
       "      <th>is_cell</th>\n",
       "      <th>high_confidence</th>\n",
       "      <th>multi_chain</th>\n",
       "      <th>extra_chains</th>\n",
       "      <th>IR_VJ_1_c_call</th>\n",
       "      <th>IR_VJ_2_c_call</th>\n",
       "      <th>IR_VDJ_1_c_call</th>\n",
       "      <th>IR_VDJ_2_c_call</th>\n",
       "      <th>IR_VJ_1_consensus_count</th>\n",
       "      <th>IR_VJ_2_consensus_count</th>\n",
       "      <th>...</th>\n",
       "      <th>IR_VJ_2_v_call</th>\n",
       "      <th>IR_VDJ_1_v_call</th>\n",
       "      <th>IR_VDJ_2_v_call</th>\n",
       "      <th>has_ir</th>\n",
       "      <th>batch</th>\n",
       "      <th>spike</th>\n",
       "      <th>sample_category</th>\n",
       "      <th>donor</th>\n",
       "      <th>epitope</th>\n",
       "      <th>donor_category</th>\n",
       "    </tr>\n",
       "  </thead>\n",
       "  <tbody>\n",
       "    <tr>\n",
       "      <th>AAACCTGAGATCGGGT-1</th>\n",
       "      <td>None</td>\n",
       "      <td>None</td>\n",
       "      <td>None</td>\n",
       "      <td>NaN</td>\n",
       "      <td>NaN</td>\n",
       "      <td>NaN</td>\n",
       "      <td>NaN</td>\n",
       "      <td>NaN</td>\n",
       "      <td>NaN</td>\n",
       "      <td>NaN</td>\n",
       "      <td>...</td>\n",
       "      <td>NaN</td>\n",
       "      <td>NaN</td>\n",
       "      <td>NaN</td>\n",
       "      <td>None</td>\n",
       "      <td>NaN</td>\n",
       "      <td>NaN</td>\n",
       "      <td>NaN</td>\n",
       "      <td>NaN</td>\n",
       "      <td>NaN</td>\n",
       "      <td>NaN</td>\n",
       "    </tr>\n",
       "    <tr>\n",
       "      <th>AAACCTGCATCACGTA-1</th>\n",
       "      <td>True</td>\n",
       "      <td>True</td>\n",
       "      <td>False</td>\n",
       "      <td>[]</td>\n",
       "      <td>TRAC</td>\n",
       "      <td>NaN</td>\n",
       "      <td>TRBC1</td>\n",
       "      <td>NaN</td>\n",
       "      <td>14335.0</td>\n",
       "      <td>NaN</td>\n",
       "      <td>...</td>\n",
       "      <td>NaN</td>\n",
       "      <td>TRBV27</td>\n",
       "      <td>NaN</td>\n",
       "      <td>True</td>\n",
       "      <td>batch_1</td>\n",
       "      <td>True</td>\n",
       "      <td>after_2</td>\n",
       "      <td>R29</td>\n",
       "      <td>A01_LTD</td>\n",
       "      <td>inf_after_2</td>\n",
       "    </tr>\n",
       "    <tr>\n",
       "      <th>AAACCTGGTGATGATA-1</th>\n",
       "      <td>True</td>\n",
       "      <td>True</td>\n",
       "      <td>False</td>\n",
       "      <td>[]</td>\n",
       "      <td>TRAC</td>\n",
       "      <td>NaN</td>\n",
       "      <td>TRBC1</td>\n",
       "      <td>NaN</td>\n",
       "      <td>8067.0</td>\n",
       "      <td>NaN</td>\n",
       "      <td>...</td>\n",
       "      <td>NaN</td>\n",
       "      <td>TRBV27</td>\n",
       "      <td>NaN</td>\n",
       "      <td>True</td>\n",
       "      <td>batch_1</td>\n",
       "      <td>True</td>\n",
       "      <td>after_2</td>\n",
       "      <td>R29</td>\n",
       "      <td>A01_LTD</td>\n",
       "      <td>inf_after_2</td>\n",
       "    </tr>\n",
       "    <tr>\n",
       "      <th>AAACCTGTCAACACAC-1</th>\n",
       "      <td>True</td>\n",
       "      <td>True</td>\n",
       "      <td>False</td>\n",
       "      <td>[]</td>\n",
       "      <td>TRAC</td>\n",
       "      <td>NaN</td>\n",
       "      <td>TRBC1</td>\n",
       "      <td>NaN</td>\n",
       "      <td>1407.0</td>\n",
       "      <td>NaN</td>\n",
       "      <td>...</td>\n",
       "      <td>NaN</td>\n",
       "      <td>TRBV30</td>\n",
       "      <td>NaN</td>\n",
       "      <td>True</td>\n",
       "      <td>NaN</td>\n",
       "      <td>NaN</td>\n",
       "      <td>NaN</td>\n",
       "      <td>NaN</td>\n",
       "      <td>NaN</td>\n",
       "      <td>NaN</td>\n",
       "    </tr>\n",
       "    <tr>\n",
       "      <th>AAACGGGAGCTGCAAG-1</th>\n",
       "      <td>True</td>\n",
       "      <td>True</td>\n",
       "      <td>False</td>\n",
       "      <td>[]</td>\n",
       "      <td>TRAC</td>\n",
       "      <td>NaN</td>\n",
       "      <td>TRBC2</td>\n",
       "      <td>NaN</td>\n",
       "      <td>6765.0</td>\n",
       "      <td>NaN</td>\n",
       "      <td>...</td>\n",
       "      <td>NaN</td>\n",
       "      <td>TRBV4-2</td>\n",
       "      <td>NaN</td>\n",
       "      <td>True</td>\n",
       "      <td>batch_1</td>\n",
       "      <td>True</td>\n",
       "      <td>vax</td>\n",
       "      <td>N1</td>\n",
       "      <td>A24_QYI</td>\n",
       "      <td>naive</td>\n",
       "    </tr>\n",
       "  </tbody>\n",
       "</table>\n",
       "<p>5 rows × 51 columns</p>\n",
       "</div>"
      ],
      "text/plain": [
       "                   is_cell high_confidence multi_chain extra_chains  \\\n",
       "AAACCTGAGATCGGGT-1    None            None        None          NaN   \n",
       "AAACCTGCATCACGTA-1    True            True       False           []   \n",
       "AAACCTGGTGATGATA-1    True            True       False           []   \n",
       "AAACCTGTCAACACAC-1    True            True       False           []   \n",
       "AAACGGGAGCTGCAAG-1    True            True       False           []   \n",
       "\n",
       "                   IR_VJ_1_c_call IR_VJ_2_c_call IR_VDJ_1_c_call  \\\n",
       "AAACCTGAGATCGGGT-1            NaN            NaN             NaN   \n",
       "AAACCTGCATCACGTA-1           TRAC            NaN           TRBC1   \n",
       "AAACCTGGTGATGATA-1           TRAC            NaN           TRBC1   \n",
       "AAACCTGTCAACACAC-1           TRAC            NaN           TRBC1   \n",
       "AAACGGGAGCTGCAAG-1           TRAC            NaN           TRBC2   \n",
       "\n",
       "                   IR_VDJ_2_c_call  IR_VJ_1_consensus_count  \\\n",
       "AAACCTGAGATCGGGT-1             NaN                      NaN   \n",
       "AAACCTGCATCACGTA-1             NaN                  14335.0   \n",
       "AAACCTGGTGATGATA-1             NaN                   8067.0   \n",
       "AAACCTGTCAACACAC-1             NaN                   1407.0   \n",
       "AAACGGGAGCTGCAAG-1             NaN                   6765.0   \n",
       "\n",
       "                    IR_VJ_2_consensus_count  ...  IR_VJ_2_v_call  \\\n",
       "AAACCTGAGATCGGGT-1                      NaN  ...             NaN   \n",
       "AAACCTGCATCACGTA-1                      NaN  ...             NaN   \n",
       "AAACCTGGTGATGATA-1                      NaN  ...             NaN   \n",
       "AAACCTGTCAACACAC-1                      NaN  ...             NaN   \n",
       "AAACGGGAGCTGCAAG-1                      NaN  ...             NaN   \n",
       "\n",
       "                    IR_VDJ_1_v_call IR_VDJ_2_v_call has_ir    batch spike  \\\n",
       "AAACCTGAGATCGGGT-1              NaN             NaN   None      NaN   NaN   \n",
       "AAACCTGCATCACGTA-1           TRBV27             NaN   True  batch_1  True   \n",
       "AAACCTGGTGATGATA-1           TRBV27             NaN   True  batch_1  True   \n",
       "AAACCTGTCAACACAC-1           TRBV30             NaN   True      NaN   NaN   \n",
       "AAACGGGAGCTGCAAG-1          TRBV4-2             NaN   True  batch_1  True   \n",
       "\n",
       "                    sample_category  donor  epitope  donor_category  \n",
       "AAACCTGAGATCGGGT-1              NaN    NaN      NaN             NaN  \n",
       "AAACCTGCATCACGTA-1          after_2    R29  A01_LTD     inf_after_2  \n",
       "AAACCTGGTGATGATA-1          after_2    R29  A01_LTD     inf_after_2  \n",
       "AAACCTGTCAACACAC-1              NaN    NaN      NaN             NaN  \n",
       "AAACGGGAGCTGCAAG-1              vax     N1  A24_QYI           naive  \n",
       "\n",
       "[5 rows x 51 columns]"
      ]
     },
     "execution_count": 7,
     "metadata": {},
     "output_type": "execute_result"
    }
   ],
   "source": [
    "adata.obs = pd.concat([adata.obs, filtered_barcodes], axis=1)\n",
    "adata.obs.head(5)"
   ]
  },
  {
   "cell_type": "code",
   "execution_count": 8,
   "metadata": {
    "scrolled": true
   },
   "outputs": [
    {
     "name": "stdout",
     "output_type": "stream",
     "text": [
      "Valid T cell barcodes: 12389\n",
      "Binding filtered: 11488\n",
      "With full receptor: 9884\n",
      "Without dual AIR: 8618\n"
     ]
    }
   ],
   "source": [
    "adata = adata[adata.obs.index.isin(filtered_barcodes.index)]\n",
    "print(f'Valid T cell barcodes: {len(adata.obs)}')\n",
    "\n",
    "selected_epitopes = [idx for idx, ct in adata.obs['epitope'].value_counts().items() if ct>=100]\n",
    "adata = adata[adata.obs['epitope'].isin(selected_epitopes)]\n",
    "print(f'Binding filtered: {len(adata)}')\n",
    "\n",
    "adata = adata[~adata.obs['IR_VDJ_1_junction_aa'].isna()]\n",
    "adata = adata[~adata.obs['IR_VJ_1_junction_aa'].isna()]\n",
    "print(f'With full receptor: {len(adata)}')\n",
    "\n",
    "adata = adata[adata.obs['IR_VDJ_2_junction_aa'].isna()]\n",
    "adata = adata[adata.obs['IR_VJ_2_junction_aa'].isna()]\n",
    "print(f'Without dual AIR: {len(adata)}')\n",
    "\n",
    "adata = adata.copy()"
   ]
  },
  {
   "cell_type": "markdown",
   "metadata": {},
   "source": [
    "## Normalization and variable genes\n"
   ]
  },
  {
   "cell_type": "code",
   "execution_count": 9,
   "metadata": {},
   "outputs": [
    {
     "name": "stderr",
     "output_type": "stream",
     "text": [
      "normalizing counts per cell\n",
      "    finished (0:00:00)\n"
     ]
    }
   ],
   "source": [
    "sc.pp.normalize_total(adata, target_sum=1e4)  # target sum? \n",
    "sc.pp.log1p(adata)"
   ]
  },
  {
   "cell_type": "code",
   "execution_count": 10,
   "metadata": {},
   "outputs": [
    {
     "name": "stderr",
     "output_type": "stream",
     "text": [
      "If you pass `n_top_genes`, all cutoffs are ignored.\n",
      "extracting highly variable genes\n",
      "    finished (0:00:00)\n",
      "--> added\n",
      "    'highly_variable', boolean vector (adata.var)\n",
      "    'means', float vector (adata.var)\n",
      "    'dispersions', float vector (adata.var)\n",
      "    'dispersions_norm', float vector (adata.var)\n"
     ]
    },
    {
     "name": "stdout",
     "output_type": "stream",
     "text": [
      "Shape before:  (8618, 36640)\n",
      "Shape after:  (8618, 5000)\n"
     ]
    }
   ],
   "source": [
    "sc.pp.highly_variable_genes(adata, n_top_genes=5000)\n",
    "print('Shape before: ', adata.shape)\n",
    "adata = adata[:, adata.var['highly_variable']]\n",
    "print('Shape after: ', adata.shape)"
   ]
  },
  {
   "cell_type": "code",
   "execution_count": 11,
   "metadata": {},
   "outputs": [
    {
     "name": "stderr",
     "output_type": "stream",
     "text": [
      "computing neighbors\n",
      "WARNING: You’re trying to run this on 5000 dimensions of `.X`, if you really want this, set `use_rep='X'`.\n",
      "         Falling back to preprocessing with `sc.pp.pca` and default params.\n",
      "computing PCA\n",
      "    with n_comps=50\n",
      "    finished (0:00:01)\n",
      "    finished: added to `.uns['neighbors']`\n",
      "    `.obsp['distances']`, distances for each pair of neighbors\n",
      "    `.obsp['connectivities']`, weighted adjacency matrix (0:00:25)\n",
      "computing UMAP\n",
      "    finished: added\n",
      "    'X_umap', UMAP coordinates (adata.obsm) (0:00:12)\n"
     ]
    },
    {
     "data": {
      "image/png": "[encoded data removed]",
      "text/plain": [
       "<Figure size 772.8x320 with 2 Axes>"
      ]
     },
     "metadata": {},
     "output_type": "display_data"
    }
   ],
   "source": [
    "sc.pp.neighbors(adata)\n",
    "sc.tl.umap(adata)\n",
    "sc.pl.umap(adata, color=['epitope', 'donor'])"
   ]
  },
  {
   "cell_type": "markdown",
   "metadata": {},
   "source": [
    "## Clonotype annotation"
   ]
  },
  {
   "cell_type": "code",
   "execution_count": 12,
   "metadata": {},
   "outputs": [
    {
     "name": "stdout",
     "output_type": "stream",
     "text": [
      "3690\n"
     ]
    },
    {
     "data": {
      "text/plain": [
       "AAACCTGCATCACGTA-1    0\n",
       "AAACCTGGTGATGATA-1    0\n",
       "AAACGGGAGCTGCAAG-1    1\n",
       "AAACGGGTCTTACCGC-1    0\n",
       "AAAGATGAGGAACTGC-1    2\n",
       "Name: clonotype, dtype: int64"
      ]
     },
     "execution_count": 12,
     "metadata": {},
     "output_type": "execute_result"
    }
   ],
   "source": [
    "adata.obs['TRA+TRB'] = adata.obs['IR_VJ_1_junction_aa'].astype(str) + '+' + adata.obs['IR_VDJ_1_junction_aa'].astype(str)\n",
    "clono_dict = {clone: idx for idx, clone in enumerate(adata.obs['TRA+TRB'].unique())}\n",
    "adata.obs['clonotype'] = adata.obs['TRA+TRB'].map(clono_dict)\n",
    "print(len(adata.obs['clonotype'].unique()))\n",
    "adata.obs['clonotype'].head()"
   ]
  },
  {
   "cell_type": "markdown",
   "metadata": {},
   "source": [
    "## Embed Proteins"
   ]
  },
  {
   "cell_type": "markdown",
   "metadata": {},
   "source": [
    "Append both chains, add start ('<'), stop ('>') and seperator ('+') token. For training purpose IR data might be needed as one hot vector."
   ]
  },
  {
   "cell_type": "code",
   "execution_count": 13,
   "metadata": {},
   "outputs": [],
   "source": [
    "import sys\n",
    "sys.path.append('../mvTCR')\n",
    "import tcr_embedding.utils_preprocessing as utils"
   ]
  },
  {
   "cell_type": "code",
   "execution_count": 14,
   "metadata": {},
   "outputs": [],
   "source": [
    "import sys\n",
    "sys.path.append('..')\n",
    "from tcr_embedding.utils_preprocessing import encode_tcr\n",
    "\n",
    "len_beta = adata.obs['IR_VDJ_1_junction_aa'].str.len().max()\n",
    "len_alpha= adata.obs['IR_VJ_1_junction_aa'].str.len().max()\n",
    "pad = max(len_beta, len_alpha)\n",
    "\n",
    "encode_tcr(adata, 'IR_VJ_1_junction_aa', 'IR_VDJ_1_junction_aa', pad)"
   ]
  },
  {
   "cell_type": "markdown",
   "metadata": {},
   "source": [
    "## Donor conditional"
   ]
  },
  {
   "cell_type": "code",
   "execution_count": 15,
   "metadata": {},
   "outputs": [],
   "source": [
    "from sklearn.preprocessing import OneHotEncoder\n",
    "enc = OneHotEncoder(sparse=False)\n",
    "enc.fit(adata.obs['donor'].to_numpy().reshape(-1, 1))\n",
    "adata.obsm['donor'] = enc.transform(adata.obs['donor'].to_numpy().reshape(-1, 1))"
   ]
  },
  {
   "cell_type": "markdown",
   "metadata": {},
   "source": [
    "## Save "
   ]
  },
  {
   "cell_type": "code",
   "execution_count": 16,
   "metadata": {},
   "outputs": [],
   "source": [
    "adata.obs['spike'] = adata.obs['spike'].astype(str)\n",
    "\n",
    "adata.write_h5ad(path_out, compression='gzip')"
   ]
  },
  {
   "cell_type": "code",
   "execution_count": 18,
   "metadata": {},
   "outputs": [
    {
     "data": {
      "text/plain": [
       "9.106862"
      ]
     },
     "execution_count": 18,
     "metadata": {},
     "output_type": "execute_result"
    }
   ],
   "source": [
    "adata.X.A.max()"
   ]
  }
 ],
 "metadata": {
  "kernelspec": {
   "display_name": "Python [conda env:mvTCR_repro]",
   "language": "python",
   "name": "conda-env-mvTCR_repro-py"
  },
  "language_info": {
   "codemirror_mode": {
    "name": "ipython",
    "version": 3
   },
   "file_extension": ".py",
   "mimetype": "text/x-python",
   "name": "python",
   "nbconvert_exporter": "python",
   "pygments_lexer": "ipython3",
   "version": "3.8.8"
  }
 },
 "nbformat": 4,
 "nbformat_minor": 4
}
